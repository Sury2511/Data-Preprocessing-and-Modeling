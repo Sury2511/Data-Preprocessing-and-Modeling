{
 "cells": [
  {
   "attachments": {},
   "cell_type": "markdown",
   "metadata": {
    "Collapsed": "false",
    "id": "CtnHxc20lVGg"
   },
   "source": [
    "Data preprocessing and modeling\n",
    "\n",
    "- Full Name: Nguyễn Minh Tuấn"
   ]
  },
  {
   "attachments": {},
   "cell_type": "markdown",
   "metadata": {
    "Collapsed": "false",
    "id": "vIU2_LomlVGo"
   },
   "source": [
    "---"
   ]
  },
  {
   "attachments": {},
   "cell_type": "markdown",
   "metadata": {
    "id": "-djgfWxulVGq"
   },
   "source": [
    "Check the code environment:"
   ]
  },
  {
   "cell_type": "code",
   "execution_count": 1,
   "metadata": {
    "id": "ZC2XmNdKlVGr"
   },
   "outputs": [
    {
     "data": {
      "text/plain": [
       "('/home/minhtuan2511/anaconda3/envs/min_ds-env/bin/python',\n",
       " '3.8.8 | packaged by conda-forge | (default, Feb 20 2021, 16:22:27) \\n[GCC 9.3.0]')"
      ]
     },
     "execution_count": 1,
     "metadata": {},
     "output_type": "execute_result"
    }
   ],
   "source": [
    "import sys\n",
    "sys.executable, sys.version"
   ]
  },
  {
   "attachments": {},
   "cell_type": "markdown",
   "metadata": {
    "Collapsed": "false",
    "id": "ovxfxtNMlVGu"
   },
   "source": [
    "## Import"
   ]
  },
  {
   "cell_type": "code",
   "execution_count": 2,
   "metadata": {
    "Collapsed": "false",
    "id": "zADGZAPMlVGu"
   },
   "outputs": [],
   "source": [
    "import matplotlib.pyplot as plt\n",
    "import seaborn as sns \n",
    "import pandas as pd\n",
    "import numpy as np\n",
    "\n",
    "from sklearn.model_selection import train_test_split\n",
    "from sklearn.preprocessing import OneHotEncoder, StandardScaler\n",
    "from sklearn.impute import SimpleImputer\n",
    "from sklearn.base import BaseEstimator, TransformerMixin\n",
    "from sklearn.pipeline import Pipeline, make_pipeline\n",
    "from sklearn.compose import ColumnTransformer, make_column_transformer\n",
    "from sklearn.neural_network import MLPClassifier\n",
    "from sklearn import set_config\n",
    "set_config(display='diagram') # to visualize pipeline\n",
    "\n",
    "# You can also import other things ...\n",
    "# YOUR CODE HERE (OPTION)\n",
    "from sklearn.metrics import accuracy_score"
   ]
  },
  {
   "attachments": {},
   "cell_type": "markdown",
   "metadata": {
    "Collapsed": "false",
    "id": "Z0JL7XEFlVGv"
   },
   "source": [
    "---"
   ]
  },
  {
   "attachments": {},
   "cell_type": "markdown",
   "metadata": {
    "Collapsed": "false",
    "id": "bzcfEvRClVGv"
   },
   "source": [
    "## Collect data\n",
    "\n",
    "The dataset used in this lab is a pre-collected dataset for heart disease prediction. ([Reference](https://archive.ics.uci.edu/ml/datasets/heart+disease)); It is changed a few things fit the goal of the lab.\n",
    "\n",
    "Data files include:\n",
    "- File \"lab03_train.csv\": data set train\n",
    "- File \"lab03_test.csv\": data set test\n",
    "- File \"description.txt\": describe the meaning of the columns"
   ]
  },
  {
   "attachments": {},
   "cell_type": "markdown",
   "metadata": {
    "Collapsed": "false",
    "id": "cDE_MU8VlVGv"
   },
   "source": [
    "---"
   ]
  },
  {
   "attachments": {},
   "cell_type": "markdown",
   "metadata": {
    "Collapsed": "false",
    "id": "qUIzd1oFlVGw"
   },
   "source": [
    "## Data exploratory"
   ]
  },
  {
   "cell_type": "code",
   "execution_count": 3,
   "metadata": {
    "Collapsed": "false",
    "id": "sFmVedwNlVGw"
   },
   "outputs": [
    {
     "data": {
      "text/html": [
       "<div>\n",
       "<style scoped>\n",
       "    .dataframe tbody tr th:only-of-type {\n",
       "        vertical-align: middle;\n",
       "    }\n",
       "\n",
       "    .dataframe tbody tr th {\n",
       "        vertical-align: top;\n",
       "    }\n",
       "\n",
       "    .dataframe thead th {\n",
       "        text-align: right;\n",
       "    }\n",
       "</style>\n",
       "<table border=\"1\" class=\"dataframe\">\n",
       "  <thead>\n",
       "    <tr style=\"text-align: right;\">\n",
       "      <th></th>\n",
       "      <th>age</th>\n",
       "      <th>sex</th>\n",
       "      <th>cp</th>\n",
       "      <th>trestbps</th>\n",
       "      <th>chol</th>\n",
       "      <th>fbs</th>\n",
       "      <th>restecg</th>\n",
       "      <th>thalach</th>\n",
       "      <th>exang</th>\n",
       "      <th>oldpeak</th>\n",
       "      <th>slope</th>\n",
       "      <th>ca</th>\n",
       "      <th>thal</th>\n",
       "      <th>target</th>\n",
       "    </tr>\n",
       "  </thead>\n",
       "  <tbody>\n",
       "    <tr>\n",
       "      <th>0</th>\n",
       "      <td>43.0</td>\n",
       "      <td>NaN</td>\n",
       "      <td>2</td>\n",
       "      <td>122</td>\n",
       "      <td>NaN</td>\n",
       "      <td>0</td>\n",
       "      <td>1</td>\n",
       "      <td>NaN</td>\n",
       "      <td>0</td>\n",
       "      <td>0.2</td>\n",
       "      <td>1.0</td>\n",
       "      <td>0</td>\n",
       "      <td>2</td>\n",
       "      <td>1</td>\n",
       "    </tr>\n",
       "    <tr>\n",
       "      <th>1</th>\n",
       "      <td>66.0</td>\n",
       "      <td>female</td>\n",
       "      <td>2</td>\n",
       "      <td>146</td>\n",
       "      <td>278.0</td>\n",
       "      <td>0</td>\n",
       "      <td>0</td>\n",
       "      <td>152.0</td>\n",
       "      <td>0</td>\n",
       "      <td>0.0</td>\n",
       "      <td>1.0</td>\n",
       "      <td>1</td>\n",
       "      <td>2</td>\n",
       "      <td>1</td>\n",
       "    </tr>\n",
       "    <tr>\n",
       "      <th>2</th>\n",
       "      <td>58.0</td>\n",
       "      <td>male</td>\n",
       "      <td>2</td>\n",
       "      <td>140</td>\n",
       "      <td>211.0</td>\n",
       "      <td>1</td>\n",
       "      <td>0</td>\n",
       "      <td>165.0</td>\n",
       "      <td>0</td>\n",
       "      <td>0.0</td>\n",
       "      <td>2.0</td>\n",
       "      <td>0</td>\n",
       "      <td>2</td>\n",
       "      <td>1</td>\n",
       "    </tr>\n",
       "    <tr>\n",
       "      <th>3</th>\n",
       "      <td>63.0</td>\n",
       "      <td>female</td>\n",
       "      <td>0</td>\n",
       "      <td>124</td>\n",
       "      <td>NaN</td>\n",
       "      <td>0</td>\n",
       "      <td>1</td>\n",
       "      <td>NaN</td>\n",
       "      <td>1</td>\n",
       "      <td>0.0</td>\n",
       "      <td>1.0</td>\n",
       "      <td>0</td>\n",
       "      <td>2</td>\n",
       "      <td>0</td>\n",
       "    </tr>\n",
       "    <tr>\n",
       "      <th>4</th>\n",
       "      <td>57.0</td>\n",
       "      <td>male</td>\n",
       "      <td>1</td>\n",
       "      <td>154</td>\n",
       "      <td>232.0</td>\n",
       "      <td>0</td>\n",
       "      <td>0</td>\n",
       "      <td>164.0</td>\n",
       "      <td>0</td>\n",
       "      <td>0.0</td>\n",
       "      <td>NaN</td>\n",
       "      <td>1</td>\n",
       "      <td>2</td>\n",
       "      <td>0</td>\n",
       "    </tr>\n",
       "  </tbody>\n",
       "</table>\n",
       "</div>"
      ],
      "text/plain": [
       "    age     sex  cp  trestbps   chol  fbs  restecg  thalach  exang  oldpeak  \\\n",
       "0  43.0     NaN   2       122    NaN    0        1      NaN      0      0.2   \n",
       "1  66.0  female   2       146  278.0    0        0    152.0      0      0.0   \n",
       "2  58.0    male   2       140  211.0    1        0    165.0      0      0.0   \n",
       "3  63.0  female   0       124    NaN    0        1      NaN      1      0.0   \n",
       "4  57.0    male   1       154  232.0    0        0    164.0      0      0.0   \n",
       "\n",
       "   slope  ca  thal  target  \n",
       "0    1.0   0     2       1  \n",
       "1    1.0   1     2       1  \n",
       "2    2.0   0     2       1  \n",
       "3    1.0   0     2       0  \n",
       "4    NaN   1     2       0  "
      ]
     },
     "execution_count": 3,
     "metadata": {},
     "output_type": "execute_result"
    }
   ],
   "source": [
    "data_df = pd.read_csv('lab03_train.csv') \n",
    "data_df.head()"
   ]
  },
  {
   "cell_type": "code",
   "execution_count": 4,
   "metadata": {
    "id": "PKu3RUoRaSS7"
   },
   "outputs": [
    {
     "name": "stdout",
     "output_type": "stream",
     "text": [
      "<class 'pandas.core.frame.DataFrame'>\n",
      "RangeIndex: 242 entries, 0 to 241\n",
      "Data columns (total 14 columns):\n",
      " #   Column    Non-Null Count  Dtype  \n",
      "---  ------    --------------  -----  \n",
      " 0   age       221 non-null    float64\n",
      " 1   sex       196 non-null    object \n",
      " 2   cp        242 non-null    int64  \n",
      " 3   trestbps  242 non-null    int64  \n",
      " 4   chol      207 non-null    float64\n",
      " 5   fbs       242 non-null    int64  \n",
      " 6   restecg   242 non-null    int64  \n",
      " 7   thalach   70 non-null     float64\n",
      " 8   exang     242 non-null    int64  \n",
      " 9   oldpeak   206 non-null    float64\n",
      " 10  slope     216 non-null    float64\n",
      " 11  ca        242 non-null    int64  \n",
      " 12  thal      242 non-null    int64  \n",
      " 13  target    242 non-null    int64  \n",
      "dtypes: float64(5), int64(8), object(1)\n",
      "memory usage: 26.6+ KB\n"
     ]
    }
   ],
   "source": [
    "data_df.info()"
   ]
  },
  {
   "attachments": {},
   "cell_type": "markdown",
   "metadata": {
    "id": "4OAxtr7XlVGw"
   },
   "source": [
    "### How many rows and columns does the data have?"
   ]
  },
  {
   "cell_type": "code",
   "execution_count": 5,
   "metadata": {
    "id": "zlZ1c7EflVGx"
   },
   "outputs": [
    {
     "data": {
      "text/plain": [
       "(242, 14)"
      ]
     },
     "execution_count": 5,
     "metadata": {},
     "output_type": "execute_result"
    }
   ],
   "source": [
    "data_df.shape"
   ]
  },
  {
   "attachments": {},
   "cell_type": "markdown",
   "metadata": {
    "id": "a4Um_o5blVGx"
   },
   "source": [
    "### What does each sample mean? Does it matter that the samples have different meanings?"
   ]
  },
  {
   "attachments": {},
   "cell_type": "markdown",
   "metadata": {
    "id": "ql5VsnYVlVGx"
   },
   "source": [
    "The data shows that each sample contains information for a patient, and it doesn't seem to matter that the samples have different meanings."
   ]
  },
  {
   "attachments": {},
   "cell_type": "markdown",
   "metadata": {
    "id": "Ih5D0w0WlVGy"
   },
   "source": [
    "### Does the data have duplicate sample?"
   ]
  },
  {
   "cell_type": "code",
   "execution_count": 6,
   "metadata": {
    "id": "l8gMMMlmlVGy"
   },
   "outputs": [
    {
     "data": {
      "text/plain": [
       "0"
      ]
     },
     "execution_count": 6,
     "metadata": {},
     "output_type": "execute_result"
    }
   ],
   "source": [
    "# Number of duplicated lines\n",
    "data_df.index.duplicated().sum()"
   ]
  },
  {
   "attachments": {},
   "cell_type": "markdown",
   "metadata": {
    "id": "vLl5KluIlVGy"
   },
   "source": [
    "### What does each column mean? "
   ]
  },
  {
   "attachments": {},
   "cell_type": "markdown",
   "metadata": {
    "id": "KW2RYNgwlVGy"
   },
   "source": [
    "Read file \"description.txt\"."
   ]
  },
  {
   "cell_type": "code",
   "execution_count": 7,
   "metadata": {
    "id": "scpKAvIRlVGz"
   },
   "outputs": [
    {
     "name": "stdout",
     "output_type": "stream",
     "text": [
      "1) age:\t\tage in years\n",
      "2) sex:\t\tsex (male; female)\n",
      "3) cp: \t\tchest pain type\n",
      "4) trestbps: \tresting blood pressure\n",
      "5) chol: \tserum cholestoral in mg/dl\n",
      "6) fbs: \tfasting blood sugar > 120 mg/dl\n",
      "7) restecg: \tresting electrocardiographic results (values 0,1,2)\n",
      "8) thalach: \tmaximum heart rate achieved\n",
      "9) exang: \texercise induced angina\n",
      "10) oldpeak: \t= ST depression induced by exercise relative to rest\n",
      "11) slope: \tthe slope of the peak exercise ST segment\n",
      "12) ca: \tnumber of major vessels (0-3) colored by flourosopy\n",
      "13) thal: \tdisplays the thalassemia\n"
     ]
    }
   ],
   "source": [
    "with open('description.txt', 'r') as f:\n",
    "    print(f.read())"
   ]
  },
  {
   "attachments": {},
   "cell_type": "markdown",
   "metadata": {
    "id": "k7gIF118lVGz"
   },
   "source": [
    "---"
   ]
  },
  {
   "attachments": {},
   "cell_type": "markdown",
   "metadata": {
    "id": "_rOAPNhBlVG0"
   },
   "source": [
    "In the next step, you will split the data set into 2 or 3 subset. These can be train set, validation set, test set. After that, you will continue explore the train set to get its insight.\n",
    "\n",
    "The reason why not continue exploring is that the validation and testing set are the special set which must be hidden. If you explore the data too much, understand the data too much and then separate the data set, the results on the validation set and the test set may not be objective.\n"
   ]
  },
  {
   "attachments": {},
   "cell_type": "markdown",
   "metadata": {
    "id": "LujfMGvIlVG0"
   },
   "source": [
    "---"
   ]
  },
  {
   "attachments": {},
   "cell_type": "markdown",
   "metadata": {
    "id": "ZIScaP1ZAk6W"
   },
   "source": [
    "## Data Discovery (for how to separate sets)\n",
    "To know how to split the data set, we need to explore the output column:\n",
    "\n",
    "- What data type does this column have? In the regression problem, the output column must be in numeric form; if there is no numeric form (for example, numbers but stored as strings) then we need to convert to numeric form and then separate the subsets.\n",
    "- Does this column have a missing value? If it have missing value, we will remove the rows where the output has a missing value and then split the subsets (the type of learning that learns from data where the output has a missing value is called semi-supervised); \n",
    "- If this column is categorical, what is the ratio of the classes? If the ratio of classes are disparate too much, then we may need to go back to the data collection step and collect more so that the ratio of the classes do not differ too much (or using unique techniques to solve the imbalance of the data set)."
   ]
  },
  {
   "cell_type": "code",
   "execution_count": 8,
   "metadata": {
    "id": "Q2ksfSf-lVG1"
   },
   "outputs": [
    {
     "data": {
      "text/plain": [
       "dtype('int64')"
      ]
     },
     "execution_count": 8,
     "metadata": {},
     "output_type": "execute_result"
    }
   ],
   "source": [
    "# What data type does output column have?\n",
    "data_df['target'].dtype"
   ]
  },
  {
   "cell_type": "code",
   "execution_count": 9,
   "metadata": {
    "id": "BcQnoMbxlVG1"
   },
   "outputs": [
    {
     "data": {
      "text/plain": [
       "0"
      ]
     },
     "execution_count": 9,
     "metadata": {},
     "output_type": "execute_result"
    }
   ],
   "source": [
    "# The number of missing value\n",
    "data_df['target'].isna().sum()"
   ]
  },
  {
   "cell_type": "code",
   "execution_count": 10,
   "metadata": {
    "id": "i758Nmi0lVG2"
   },
   "outputs": [
    {
     "data": {
      "text/plain": [
       "1    54.132231\n",
       "0    45.867769\n",
       "Name: target, dtype: float64"
      ]
     },
     "execution_count": 10,
     "metadata": {},
     "output_type": "execute_result"
    },
    {
     "data": {
      "image/png": "[encoded data removed]",
      "text/plain": [
       "<Figure size 640x480 with 1 Axes>"
      ]
     },
     "metadata": {},
     "output_type": "display_data"
    }
   ],
   "source": [
    "# what is the ratio of the classes?\n",
    "data_df.target.value_counts(normalize=True).plot(kind=\"bar\", color=[\"red\", \"blue\"])\n",
    "data_df['target'].value_counts(normalize=True) * 100"
   ]
  },
  {
   "attachments": {},
   "cell_type": "markdown",
   "metadata": {
    "id": "bMKy7WAOZWex"
   },
   "source": [
    "OK, no problem at all. The ratio between classes is also quite balanced, so we should be able to apply common techniques to solve this problem."
   ]
  },
  {
   "attachments": {},
   "cell_type": "markdown",
   "metadata": {
    "id": "NgcvfyEPlVG2"
   },
   "source": [
    "---"
   ]
  },
  {
   "attachments": {},
   "cell_type": "markdown",
   "metadata": {
    "id": "oQXS782plVG3",
    "tags": []
   },
   "source": [
    "## Preprocessing (Splitting Data)"
   ]
  },
  {
   "cell_type": "code",
   "execution_count": 11,
   "metadata": {
    "Collapsed": "false",
    "id": "GOxpBQ2hlVG3"
   },
   "outputs": [],
   "source": [
    "# Get predictor(X) and target(y)\n",
    "y_sr = data_df[\"target\"] \n",
    "X_df = data_df.drop(\"target\", axis=1)"
   ]
  },
  {
   "cell_type": "code",
   "execution_count": 12,
   "metadata": {
    "Collapsed": "false",
    "id": "tBKNBvtPlVG3"
   },
   "outputs": [],
   "source": [
    "# Split the training set and the validation set by the ratio of 80%: 20%\n",
    "train_X_df, val_X_df, train_y_sr, val_y_sr = \\\n",
    "                              train_test_split(X_df, y_sr, \n",
    "                                               test_size=0.2, \n",
    "                                               stratify=y_sr, \n",
    "                                               random_state=0)"
   ]
  },
  {
   "cell_type": "code",
   "execution_count": 13,
   "metadata": {
    "id": "rxUbZC8IlVG3"
   },
   "outputs": [
    {
     "data": {
      "text/plain": [
       "(193, 13)"
      ]
     },
     "execution_count": 13,
     "metadata": {},
     "output_type": "execute_result"
    }
   ],
   "source": [
    "train_X_df.shape"
   ]
  },
  {
   "cell_type": "code",
   "execution_count": 14,
   "metadata": {
    "id": "Y6QO5DEwlVG4"
   },
   "outputs": [
    {
     "data": {
      "text/plain": [
       "(193,)"
      ]
     },
     "execution_count": 14,
     "metadata": {},
     "output_type": "execute_result"
    }
   ],
   "source": [
    "train_y_sr.shape"
   ]
  },
  {
   "cell_type": "code",
   "execution_count": 15,
   "metadata": {
    "id": "tMzu6_kIlVG4"
   },
   "outputs": [
    {
     "data": {
      "text/plain": [
       "(49, 13)"
      ]
     },
     "execution_count": 15,
     "metadata": {},
     "output_type": "execute_result"
    }
   ],
   "source": [
    "val_X_df.shape"
   ]
  },
  {
   "cell_type": "code",
   "execution_count": 16,
   "metadata": {
    "id": "as6Tz8telVG4"
   },
   "outputs": [
    {
     "data": {
      "text/plain": [
       "(49,)"
      ]
     },
     "execution_count": 16,
     "metadata": {},
     "output_type": "execute_result"
    }
   ],
   "source": [
    "val_y_sr.shape"
   ]
  },
  {
   "cell_type": "code",
   "execution_count": 17,
   "metadata": {
    "Collapsed": "false",
    "id": "mEJirtzJlVG4"
   },
   "outputs": [
    {
     "data": {
      "text/plain": [
       "Int64Index([214, 160, 23, 57, 206], dtype='int64')"
      ]
     },
     "execution_count": 17,
     "metadata": {},
     "output_type": "execute_result"
    }
   ],
   "source": [
    "train_X_df.head().index"
   ]
  },
  {
   "attachments": {},
   "cell_type": "markdown",
   "metadata": {
    "id": "kzBMaA4JatSF"
   },
   "source": [
    "&#9889; I've fixed `random_state` in `train_test_split` to make sure my results are the same as yours. However, I don't know if this is guaranteed with different operating systems. The result of my `train_X_df.head().index` statement is 5 values: 214, 160, 23, 57, 206. If yours is different, please report back to me on moodle (or zalo), because if it is different, your results will also be different from mine."
   ]
  },
  {
   "attachments": {},
   "cell_type": "markdown",
   "metadata": {
    "Collapsed": "false",
    "id": "b9EXZJOalVG5"
   },
   "source": [
    "---"
   ]
  },
  {
   "attachments": {},
   "cell_type": "markdown",
   "metadata": {
    "Collapsed": "false",
    "id": "83Q7v7BYlVG5"
   },
   "source": [
    "## Exploring data on training set"
   ]
  },
  {
   "attachments": {},
   "cell_type": "markdown",
   "metadata": {
    "id": "ZEM0lFBHlVG5"
   },
   "source": [
    "After separating the subsets, we can freely explore on the training set without scaring about data leakage problem."
   ]
  },
  {
   "attachments": {},
   "cell_type": "markdown",
   "metadata": {
    "id": "LY1HXxl3lVG5"
   },
   "source": [
    "### Check data type of each attribute"
   ]
  },
  {
   "cell_type": "code",
   "execution_count": 18,
   "metadata": {
    "id": "fGmgPdoulVG5"
   },
   "outputs": [
    {
     "data": {
      "text/plain": [
       "age         float64\n",
       "sex          object\n",
       "cp            int64\n",
       "trestbps      int64\n",
       "chol        float64\n",
       "fbs           int64\n",
       "restecg       int64\n",
       "thalach     float64\n",
       "exang         int64\n",
       "oldpeak     float64\n",
       "slope       float64\n",
       "ca            int64\n",
       "thal          int64\n",
       "dtype: object"
      ]
     },
     "execution_count": 18,
     "metadata": {},
     "output_type": "execute_result"
    }
   ],
   "source": [
    "train_X_df.dtypes"
   ]
  },
  {
   "attachments": {},
   "cell_type": "markdown",
   "metadata": {
    "id": "QtmDTZWUlVG6"
   },
   "source": [
    "### Exploring the distribution of numerical attributes"
   ]
  },
  {
   "cell_type": "code",
   "execution_count": 19,
   "metadata": {
    "id": "04n9XUeIlVG6"
   },
   "outputs": [
    {
     "data": {
      "text/plain": [
       "age         float64\n",
       "cp            int64\n",
       "trestbps      int64\n",
       "chol        float64\n",
       "fbs           int64\n",
       "restecg       int64\n",
       "thalach     float64\n",
       "exang         int64\n",
       "oldpeak     float64\n",
       "slope       float64\n",
       "ca            int64\n",
       "thal          int64\n",
       "dtype: object"
      ]
     },
     "execution_count": 19,
     "metadata": {},
     "output_type": "execute_result"
    }
   ],
   "source": [
    "train_X_df.dtypes[train_X_df.dtypes != object]"
   ]
  },
  {
   "cell_type": "code",
   "execution_count": 20,
   "metadata": {
    "id": "UBpuFrXrcoVE"
   },
   "outputs": [
    {
     "data": {
      "text/html": [
       "<div>\n",
       "<style scoped>\n",
       "    .dataframe tbody tr th:only-of-type {\n",
       "        vertical-align: middle;\n",
       "    }\n",
       "\n",
       "    .dataframe tbody tr th {\n",
       "        vertical-align: top;\n",
       "    }\n",
       "\n",
       "    .dataframe thead th {\n",
       "        text-align: right;\n",
       "    }\n",
       "</style>\n",
       "<table border=\"1\" class=\"dataframe\">\n",
       "  <thead>\n",
       "    <tr style=\"text-align: right;\">\n",
       "      <th></th>\n",
       "      <th>age</th>\n",
       "      <th>cp</th>\n",
       "      <th>trestbps</th>\n",
       "      <th>chol</th>\n",
       "      <th>fbs</th>\n",
       "      <th>restecg</th>\n",
       "      <th>thalach</th>\n",
       "      <th>exang</th>\n",
       "      <th>oldpeak</th>\n",
       "      <th>slope</th>\n",
       "      <th>ca</th>\n",
       "      <th>thal</th>\n",
       "    </tr>\n",
       "  </thead>\n",
       "  <tbody>\n",
       "    <tr>\n",
       "      <th>count</th>\n",
       "      <td>174.00</td>\n",
       "      <td>193.00</td>\n",
       "      <td>193.00</td>\n",
       "      <td>164.00</td>\n",
       "      <td>193.00</td>\n",
       "      <td>193.00</td>\n",
       "      <td>55.00</td>\n",
       "      <td>193.00</td>\n",
       "      <td>164.00</td>\n",
       "      <td>171.00</td>\n",
       "      <td>193.00</td>\n",
       "      <td>193.00</td>\n",
       "    </tr>\n",
       "    <tr>\n",
       "      <th>mean</th>\n",
       "      <td>55.18</td>\n",
       "      <td>1.15</td>\n",
       "      <td>131.85</td>\n",
       "      <td>245.91</td>\n",
       "      <td>0.14</td>\n",
       "      <td>0.55</td>\n",
       "      <td>147.04</td>\n",
       "      <td>0.31</td>\n",
       "      <td>1.06</td>\n",
       "      <td>1.45</td>\n",
       "      <td>0.70</td>\n",
       "      <td>2.31</td>\n",
       "    </tr>\n",
       "    <tr>\n",
       "      <th>std</th>\n",
       "      <td>9.08</td>\n",
       "      <td>1.64</td>\n",
       "      <td>16.51</td>\n",
       "      <td>50.38</td>\n",
       "      <td>0.35</td>\n",
       "      <td>0.54</td>\n",
       "      <td>23.36</td>\n",
       "      <td>0.46</td>\n",
       "      <td>1.22</td>\n",
       "      <td>0.61</td>\n",
       "      <td>1.00</td>\n",
       "      <td>0.62</td>\n",
       "    </tr>\n",
       "    <tr>\n",
       "      <th>min</th>\n",
       "      <td>29.00</td>\n",
       "      <td>0.00</td>\n",
       "      <td>100.00</td>\n",
       "      <td>131.00</td>\n",
       "      <td>0.00</td>\n",
       "      <td>0.00</td>\n",
       "      <td>71.00</td>\n",
       "      <td>0.00</td>\n",
       "      <td>0.00</td>\n",
       "      <td>0.00</td>\n",
       "      <td>0.00</td>\n",
       "      <td>0.00</td>\n",
       "    </tr>\n",
       "    <tr>\n",
       "      <th>25%</th>\n",
       "      <td>48.00</td>\n",
       "      <td>0.00</td>\n",
       "      <td>120.00</td>\n",
       "      <td>211.75</td>\n",
       "      <td>0.00</td>\n",
       "      <td>0.00</td>\n",
       "      <td>131.50</td>\n",
       "      <td>0.00</td>\n",
       "      <td>0.00</td>\n",
       "      <td>1.00</td>\n",
       "      <td>0.00</td>\n",
       "      <td>2.00</td>\n",
       "    </tr>\n",
       "    <tr>\n",
       "      <th>50%</th>\n",
       "      <td>57.00</td>\n",
       "      <td>1.00</td>\n",
       "      <td>130.00</td>\n",
       "      <td>239.00</td>\n",
       "      <td>0.00</td>\n",
       "      <td>1.00</td>\n",
       "      <td>152.00</td>\n",
       "      <td>0.00</td>\n",
       "      <td>0.70</td>\n",
       "      <td>2.00</td>\n",
       "      <td>0.00</td>\n",
       "      <td>2.00</td>\n",
       "    </tr>\n",
       "    <tr>\n",
       "      <th>75%</th>\n",
       "      <td>62.00</td>\n",
       "      <td>2.00</td>\n",
       "      <td>140.00</td>\n",
       "      <td>275.25</td>\n",
       "      <td>0.00</td>\n",
       "      <td>1.00</td>\n",
       "      <td>162.50</td>\n",
       "      <td>1.00</td>\n",
       "      <td>1.80</td>\n",
       "      <td>2.00</td>\n",
       "      <td>1.00</td>\n",
       "      <td>3.00</td>\n",
       "    </tr>\n",
       "    <tr>\n",
       "      <th>max</th>\n",
       "      <td>76.00</td>\n",
       "      <td>9.00</td>\n",
       "      <td>180.00</td>\n",
       "      <td>417.00</td>\n",
       "      <td>1.00</td>\n",
       "      <td>2.00</td>\n",
       "      <td>182.00</td>\n",
       "      <td>1.00</td>\n",
       "      <td>6.20</td>\n",
       "      <td>2.00</td>\n",
       "      <td>4.00</td>\n",
       "      <td>3.00</td>\n",
       "    </tr>\n",
       "  </tbody>\n",
       "</table>\n",
       "</div>"
      ],
      "text/plain": [
       "         age     cp  trestbps   chol    fbs  restecg  thalach  exang  oldpeak  \\\n",
       "count 174.00 193.00    193.00 164.00 193.00   193.00    55.00 193.00   164.00   \n",
       "mean   55.18   1.15    131.85 245.91   0.14     0.55   147.04   0.31     1.06   \n",
       "std     9.08   1.64     16.51  50.38   0.35     0.54    23.36   0.46     1.22   \n",
       "min    29.00   0.00    100.00 131.00   0.00     0.00    71.00   0.00     0.00   \n",
       "25%    48.00   0.00    120.00 211.75   0.00     0.00   131.50   0.00     0.00   \n",
       "50%    57.00   1.00    130.00 239.00   0.00     1.00   152.00   0.00     0.70   \n",
       "75%    62.00   2.00    140.00 275.25   0.00     1.00   162.50   1.00     1.80   \n",
       "max    76.00   9.00    180.00 417.00   1.00     2.00   182.00   1.00     6.20   \n",
       "\n",
       "       slope     ca   thal  \n",
       "count 171.00 193.00 193.00  \n",
       "mean    1.45   0.70   2.31  \n",
       "std     0.61   1.00   0.62  \n",
       "min     0.00   0.00   0.00  \n",
       "25%     1.00   0.00   2.00  \n",
       "50%     2.00   0.00   2.00  \n",
       "75%     2.00   1.00   3.00  \n",
       "max     2.00   4.00   3.00  "
      ]
     },
     "execution_count": 20,
     "metadata": {},
     "output_type": "execute_result"
    }
   ],
   "source": [
    "pd.set_option(\"display.float\", \"{:.2f}\".format)\n",
    "train_X_df.describe()"
   ]
  },
  {
   "attachments": {},
   "cell_type": "markdown",
   "metadata": {
    "Collapsed": "false",
    "id": "L12O7thLlVG8"
   },
   "source": [
    "---"
   ]
  },
  {
   "attachments": {},
   "cell_type": "markdown",
   "metadata": {
    "id": "zbGOiPEglVG8"
   },
   "source": [
    "## Preprocessing (Training set) (3.5đ)"
   ]
  },
  {
   "attachments": {},
   "cell_type": "markdown",
   "metadata": {},
   "source": [
    "First, we will add and remove some columns as follows:\n",
    "- With the `cp` column, we will proceed to extract the corresponding `cp_reduced` column. When you explore, you will see that `cp` has quite a few different values in the train set (in the train set have 10 values, but in the test set have more), some of which only appear one or very few times; if we don't deal with it, when converting to numeric by one-hot method, there will be many columns &#8594; prone to overfit. We will handle this problem as follows: take only `num_top_cp_values` (for example, 4) the value that appear most often, the rest will be replaced by the value `-1` (When modeling, We will encode this column as one-hot, so choose any value that is not in `top_cp_values` to replace it, but we will choose the value `-1`). Later, we will experiment to choose the right `num_top_cp_values` value. After processing the `cp_reduced` column, we add this column to the dataframe and remove the `cp` column.\n",
    "- Removed the `thalach` column because it has too many missing values."
   ]
  },
  {
   "attachments": {},
   "cell_type": "markdown",
   "metadata": {},
   "source": [
    "The class `ColAdderDropper` will perform the steps above. Because in the steps above, there is a step where we need to compute the values from the training set (`num_top_cp_values` the value of the column \"cp_reduced\" that appear most) and use these values to \"transform\" the dataset. (it can be a training set, it can be a validation set or a test set) so we have to define a class in Sklearn's \"transformer\" form (so we can use Sklearn's pipeline later) and in it we have to manually define it. define `fit` and `transform` methods (also if you just need to \"transform\" the data set without calculating any values from the training set, using `FunctionTransformer` as in the file [\"08-Demo.ipynb\"](https://colab.research.google.com/drive/1kZwBNAikKWplKTCKIn0ofQ9eIX12ePEl#scrollTo=gn0O90j_prDS) will more convenient). Note: the `fit` method is only used on the training set, and the `transform` method (after `fit`) can be used for any set."
   ]
  },
  {
   "attachments": {},
   "cell_type": "markdown",
   "metadata": {},
   "source": [
    "Below, I have pre-installed the `fit` method; after `fit`, the values of the `cp` column along with the number of occurrences will be stored in the `self.cp_counts_` attribute (when \"transform\" this information is not needed, but you may want to see this information), and `num_top_cp_values` the value that occurs most often is saved to `self.top_cp_values_` (`num_top_cp_values` is the hyperparameter that must be specified when creating an object of this class). Your task is to implement the `transform` method (in which `self.top_cp_values_` will be used); Please note that the data in `X_df` is not changed."
   ]
  },
  {
   "attachments": {},
   "cell_type": "markdown",
   "metadata": {},
   "source": [
    "Also, as you can see below, the `ColAdderDropper` class is inherited from two Sklearn classes `BaseEstimator` and `TransformerMixin`. This inheritance helps our class automatically have methods like `set_params`, `get_params`, `fit_transform` (otherwise we would have to define these methods ourselves). If you want to learn more about how to write classes in Sklearn format, you can read [here](https://scikit-learn.org/stable/developers/develop.html?highlight=baseestimator)."
   ]
  },
  {
   "cell_type": "code",
   "execution_count": 21,
   "metadata": {
    "Collapsed": "false",
    "deletable": false,
    "id": "v5VbKC_ilVG8",
    "nbgrader": {
     "cell_type": "code",
     "checksum": "9bbd42fec4a1b01ae8a8a58dc28e06d2",
     "grade": false,
     "grade_id": "cell-c2cb62acb65582f6",
     "locked": false,
     "schema_version": 3,
     "solution": true,
     "task": false
    }
   },
   "outputs": [],
   "source": [
    "class ColAdderDropper(BaseEstimator, TransformerMixin):\n",
    "    def __init__(self, num_top_cp_values=3):\n",
    "        self.num_top_cp_values = num_top_cp_values\n",
    "        \n",
    "    def fit(self, X_df, y=None):\n",
    "        self.cp_counts_ = X_df['cp'].value_counts()\n",
    "        cps = list(self.cp_counts_.index)\n",
    "        self.top_cp_values_ = cps[:max(1, min(self.num_top_cp_values, len(cps)))]\n",
    "        return self\n",
    "    \n",
    "    def transform(self, X_df, y=None):\n",
    "        \n",
    "        out_df = X_df.copy()\n",
    "        # YOUR CODE HERE\n",
    "        out_df['cp_reduced'] = out_df['cp'].apply(lambda x: -1 if x not in self.top_cp_values_ else x)\n",
    "        out_df = out_df.drop(columns= ['cp', 'thalach'])\n",
    "\n",
    "        out_df = out_df.sort_index(axis=1)\n",
    "        return out_df"
   ]
  },
  {
   "cell_type": "code",
   "execution_count": 22,
   "metadata": {
    "id": "-CYn5spSlVG9"
   },
   "outputs": [
    {
     "name": "stdout",
     "output_type": "stream",
     "text": [
      "0    117\n",
      "2     69\n",
      "1     36\n",
      "3      5\n",
      "6      4\n",
      "4      3\n",
      "9      3\n",
      "5      2\n",
      "7      2\n",
      "8      1\n",
      "Name: cp, dtype: int64\n",
      "\n",
      "[0, 2, 1]\n"
     ]
    }
   ],
   "source": [
    "# TEST FIT METHOD\n",
    "col_adderdropper = ColAdderDropper(num_top_cp_values=3)\n",
    "col_adderdropper.fit(data_df)\n",
    "print(col_adderdropper.cp_counts_)\n",
    "print()\n",
    "print(col_adderdropper.top_cp_values_)"
   ]
  },
  {
   "cell_type": "code",
   "execution_count": 23,
   "metadata": {
    "Collapsed": "false",
    "deletable": false,
    "editable": false,
    "id": "ujHTyrGJlVG9",
    "nbgrader": {
     "cell_type": "code",
     "checksum": "258f156033739a9ad92fb68786c9f38b",
     "grade": true,
     "grade_id": "cell-7a54f3df0d0a2556",
     "locked": true,
     "points": 1,
     "schema_version": 3,
     "solution": false,
     "task": false
    }
   },
   "outputs": [
    {
     "data": {
      "text/html": [
       "<div>\n",
       "<style scoped>\n",
       "    .dataframe tbody tr th:only-of-type {\n",
       "        vertical-align: middle;\n",
       "    }\n",
       "\n",
       "    .dataframe tbody tr th {\n",
       "        vertical-align: top;\n",
       "    }\n",
       "\n",
       "    .dataframe thead th {\n",
       "        text-align: right;\n",
       "    }\n",
       "</style>\n",
       "<table border=\"1\" class=\"dataframe\">\n",
       "  <thead>\n",
       "    <tr style=\"text-align: right;\">\n",
       "      <th></th>\n",
       "      <th>age</th>\n",
       "      <th>ca</th>\n",
       "      <th>chol</th>\n",
       "      <th>cp_reduced</th>\n",
       "      <th>exang</th>\n",
       "      <th>fbs</th>\n",
       "      <th>oldpeak</th>\n",
       "      <th>restecg</th>\n",
       "      <th>sex</th>\n",
       "      <th>slope</th>\n",
       "      <th>thal</th>\n",
       "      <th>trestbps</th>\n",
       "    </tr>\n",
       "  </thead>\n",
       "  <tbody>\n",
       "    <tr>\n",
       "      <th>214</th>\n",
       "      <td>64.00</td>\n",
       "      <td>0</td>\n",
       "      <td>335.00</td>\n",
       "      <td>2</td>\n",
       "      <td>0</td>\n",
       "      <td>0</td>\n",
       "      <td>0.00</td>\n",
       "      <td>1</td>\n",
       "      <td>NaN</td>\n",
       "      <td>2.00</td>\n",
       "      <td>2</td>\n",
       "      <td>140</td>\n",
       "    </tr>\n",
       "    <tr>\n",
       "      <th>160</th>\n",
       "      <td>49.00</td>\n",
       "      <td>0</td>\n",
       "      <td>271.00</td>\n",
       "      <td>1</td>\n",
       "      <td>0</td>\n",
       "      <td>0</td>\n",
       "      <td>0.00</td>\n",
       "      <td>1</td>\n",
       "      <td>female</td>\n",
       "      <td>NaN</td>\n",
       "      <td>2</td>\n",
       "      <td>134</td>\n",
       "    </tr>\n",
       "    <tr>\n",
       "      <th>23</th>\n",
       "      <td>59.00</td>\n",
       "      <td>1</td>\n",
       "      <td>239.00</td>\n",
       "      <td>0</td>\n",
       "      <td>1</td>\n",
       "      <td>0</td>\n",
       "      <td>NaN</td>\n",
       "      <td>0</td>\n",
       "      <td>male</td>\n",
       "      <td>1.00</td>\n",
       "      <td>3</td>\n",
       "      <td>110</td>\n",
       "    </tr>\n",
       "    <tr>\n",
       "      <th>57</th>\n",
       "      <td>60.00</td>\n",
       "      <td>0</td>\n",
       "      <td>NaN</td>\n",
       "      <td>2</td>\n",
       "      <td>0</td>\n",
       "      <td>1</td>\n",
       "      <td>0.00</td>\n",
       "      <td>1</td>\n",
       "      <td>female</td>\n",
       "      <td>2.00</td>\n",
       "      <td>2</td>\n",
       "      <td>120</td>\n",
       "    </tr>\n",
       "    <tr>\n",
       "      <th>206</th>\n",
       "      <td>65.00</td>\n",
       "      <td>0</td>\n",
       "      <td>177.00</td>\n",
       "      <td>0</td>\n",
       "      <td>0</td>\n",
       "      <td>0</td>\n",
       "      <td>0.40</td>\n",
       "      <td>1</td>\n",
       "      <td>male</td>\n",
       "      <td>2.00</td>\n",
       "      <td>3</td>\n",
       "      <td>120</td>\n",
       "    </tr>\n",
       "  </tbody>\n",
       "</table>\n",
       "</div>"
      ],
      "text/plain": [
       "      age  ca   chol  cp_reduced  exang  fbs  oldpeak  restecg     sex  slope  \\\n",
       "214 64.00   0 335.00           2      0    0     0.00        1     NaN   2.00   \n",
       "160 49.00   0 271.00           1      0    0     0.00        1  female    NaN   \n",
       "23  59.00   1 239.00           0      1    0      NaN        0    male   1.00   \n",
       "57  60.00   0    NaN           2      0    1     0.00        1  female   2.00   \n",
       "206 65.00   0 177.00           0      0    0     0.40        1    male   2.00   \n",
       "\n",
       "     thal  trestbps  \n",
       "214     2       140  \n",
       "160     2       134  \n",
       "23      3       110  \n",
       "57      2       120  \n",
       "206     3       120  "
      ]
     },
     "execution_count": 23,
     "metadata": {},
     "output_type": "execute_result"
    }
   ],
   "source": [
    "# TEST TRANSFORM METHOD\n",
    "fewer_cols_train_X_df = col_adderdropper.transform(train_X_df)\n",
    "assert set(fewer_cols_train_X_df.columns) == \\\n",
    "                                {'age', 'ca', 'chol', 'cp_reduced', 'exang', 'fbs', 'oldpeak', 'restecg', 'sex', 'slope', 'thal', 'trestbps'}\n",
    "                                \n",
    "assert np.all(fewer_cols_train_X_df['cp_reduced'].value_counts() == \\\n",
    "              pd.Series([94, 55, 29, 15], \n",
    "                        [0, 2, 1, -1]))\n",
    "fewer_cols_train_X_df.head()"
   ]
  },
  {
   "attachments": {},
   "cell_type": "markdown",
   "metadata": {},
   "source": [
    "Next, you will have to make a list of numeric columns (numerical) and non-numeric columns (categorical). The next preprocessing steps are as follows:\n",
    "- For numeric columns, we will fill in the missing value with the mean value of the column <font color=gray> (hint: use `SimpleImputer` in Sklearn)</font>. For *all* numeric columns in the training set, we all need to compute the mean, because we don't know which columns will be missing values when predicting with the new input vectors.\n",
    "- For non-numeric and unordered columns:\n",
    "     - We will fill in the missing value with the mode value (the most occurring value) of the column <font color=gray> (hint: use `SimpleImputer` in Sklearn)</font>. With *all* non-numerical and unordered columns, we all need to compute the mode, because we don't know which columns will be missing values when predicting with the new input vectors.\n",
    "     - Then we will convert to numeric by one-hot encoding method <font color=gray> (hint: use `OneHotEncoder` in Sklearn, watch out for `handle_unknown` parameter because when predicting with vectors- new input string ...)</font>.\n",
    "\n",
    "- Finally, when all columns have been filled with missing values and are in numeric form, we will proceed to normalize the range by subtracting the mean and dividing by the column's std to help the optimization algorithm as Gradient Descent, LBFGS, ... converge faster than <font color=gray>(hint: use `StandardScaler` in Sklearn)</font>."
   ]
  },
  {
   "attachments": {},
   "cell_type": "markdown",
   "metadata": {},
   "source": [
    "Your task is to create a pipeline, name it `preprocess_pipeline`, including: the step of adding `cp_reduced` columns and removing columns (installed in class `ColAdderDropper`, you set `num_top_cp_values=3`), and all the steps here (please note to follow the order of the steps and columns that I have described). Once you've created this pipeline, you'll call the `fit_transform` method with `train_X_df` as input to compute the values from the training set (for example, `top_cp_values_` in adding and removing columns; mean and mode in the missing value processing step; mean and std in the normalization step) and also `train_X_df` preprocessing; The result will be `train_X_df` after preprocessing, which is a Numpy array, you name it `preprocessed_train_X`. <font color=gray>(Hint: you read how to use pipeline in [document](https://scikit-learn.org/stable/modules/compose.html#transforming-target-in-regression), maybe skip 6.1.2; you'll need to use `Pipeline`/`make_pipeline` and `ColumnTransformer`/`make_column_transformer`.)</font>"
   ]
  },
  {
   "cell_type": "code",
   "execution_count": 24,
   "metadata": {
    "Collapsed": "false",
    "deletable": false,
    "id": "As9Dp0wZlVG-",
    "nbgrader": {
     "cell_type": "code",
     "checksum": "e7a1d4ae5e4fa50b60b4998de6be96a1",
     "grade": false,
     "grade_id": "cell-ae75d7dfa7256c7f",
     "locked": false,
     "schema_version": 3,
     "solution": true
    }
   },
   "outputs": [],
   "source": [
    "# You determine which column is numerical or categorical\n",
    "# (Hint: consider columns with different number of values < 15 )\n",
    "# YOUR CODE HERE\n",
    "temp_df = train_X_df.nunique() < 15\n",
    "categorical_cols = train_X_df.columns[temp_df].sort_values().to_list()\n",
    "categorical_cols[1] = 'cp_reduced'\n",
    "numerics_cols = train_X_df.columns[~temp_df].sort_values().to_list()\n",
    "numerics_cols.remove('thalach')\n",
    "\n",
    "\n",
    "#preprocess_pipeline\n",
    "nume_transformer = Pipeline([('mean_imputer', SimpleImputer(strategy='mean'))])\n",
    "cate_transformer = Pipeline([('mode_imputer', SimpleImputer(strategy='most_frequent')),\n",
    "                             ('encoder', OneHotEncoder(handle_unknown='ignore'))])\n",
    "nan_filler = ColumnTransformer([('nume_fillna', nume_transformer, numerics_cols),\n",
    "                                ('cate_fillna', cate_transformer, categorical_cols)])\n",
    "\n",
    "preprocess_pipeline = Pipeline([\n",
    "    ('adder_dropper', ColAdderDropper(num_top_cp_values=3)),\n",
    "    ('nan_filler', nan_filler), \n",
    "    ('scaler', StandardScaler())\n",
    "])\n",
    "\n",
    "preprocessed_train_X = preprocess_pipeline.fit_transform(train_X_df)"
   ]
  },
  {
   "cell_type": "code",
   "execution_count": 25,
   "metadata": {},
   "outputs": [
    {
     "data": {
      "text/plain": [
       "['age', 'chol', 'oldpeak', 'trestbps']"
      ]
     },
     "execution_count": 25,
     "metadata": {},
     "output_type": "execute_result"
    }
   ],
   "source": [
    "numerics_cols"
   ]
  },
  {
   "cell_type": "code",
   "execution_count": 26,
   "metadata": {
    "Collapsed": "false",
    "deletable": false,
    "editable": false,
    "id": "sJKDf9IqlVG_",
    "nbgrader": {
     "cell_type": "code",
     "checksum": "34cd22a6a9f34822f20f8d3c89115986",
     "grade": true,
     "grade_id": "cell-1cf65ae2cdb14c0c",
     "locked": true,
     "points": 2.5,
     "schema_version": 3,
     "solution": false
    }
   },
   "outputs": [
    {
     "data": {
      "text/html": [
       "<style>#sk-5bce280e-e5d4-44b8-b918-97d92a9fcb2a {color: black;background-color: white;}#sk-5bce280e-e5d4-44b8-b918-97d92a9fcb2a pre{padding: 0;}#sk-5bce280e-e5d4-44b8-b918-97d92a9fcb2a div.sk-toggleable {background-color: white;}#sk-5bce280e-e5d4-44b8-b918-97d92a9fcb2a label.sk-toggleable__label {cursor: pointer;display: block;width: 100%;margin-bottom: 0;padding: 0.2em 0.3em;box-sizing: border-box;text-align: center;}#sk-5bce280e-e5d4-44b8-b918-97d92a9fcb2a div.sk-toggleable__content {max-height: 0;max-width: 0;overflow: hidden;text-align: left;background-color: #f0f8ff;}#sk-5bce280e-e5d4-44b8-b918-97d92a9fcb2a div.sk-toggleable__content pre {margin: 0.2em;color: black;border-radius: 0.25em;background-color: #f0f8ff;}#sk-5bce280e-e5d4-44b8-b918-97d92a9fcb2a input.sk-toggleable__control:checked~div.sk-toggleable__content {max-height: 200px;max-width: 100%;overflow: auto;}#sk-5bce280e-e5d4-44b8-b918-97d92a9fcb2a div.sk-estimator input.sk-toggleable__control:checked~label.sk-toggleable__label {background-color: #d4ebff;}#sk-5bce280e-e5d4-44b8-b918-97d92a9fcb2a div.sk-label input.sk-toggleable__control:checked~label.sk-toggleable__label {background-color: #d4ebff;}#sk-5bce280e-e5d4-44b8-b918-97d92a9fcb2a input.sk-hidden--visually {border: 0;clip: rect(1px 1px 1px 1px);clip: rect(1px, 1px, 1px, 1px);height: 1px;margin: -1px;overflow: hidden;padding: 0;position: absolute;width: 1px;}#sk-5bce280e-e5d4-44b8-b918-97d92a9fcb2a div.sk-estimator {font-family: monospace;background-color: #f0f8ff;margin: 0.25em 0.25em;border: 1px dotted black;border-radius: 0.25em;box-sizing: border-box;}#sk-5bce280e-e5d4-44b8-b918-97d92a9fcb2a div.sk-estimator:hover {background-color: #d4ebff;}#sk-5bce280e-e5d4-44b8-b918-97d92a9fcb2a div.sk-parallel-item::after {content: \"\";width: 100%;border-bottom: 1px solid gray;flex-grow: 1;}#sk-5bce280e-e5d4-44b8-b918-97d92a9fcb2a div.sk-label:hover label.sk-toggleable__label {background-color: #d4ebff;}#sk-5bce280e-e5d4-44b8-b918-97d92a9fcb2a div.sk-serial::before {content: \"\";position: absolute;border-left: 1px solid gray;box-sizing: border-box;top: 2em;bottom: 0;left: 50%;}#sk-5bce280e-e5d4-44b8-b918-97d92a9fcb2a div.sk-serial {display: flex;flex-direction: column;align-items: center;background-color: white;}#sk-5bce280e-e5d4-44b8-b918-97d92a9fcb2a div.sk-item {z-index: 1;}#sk-5bce280e-e5d4-44b8-b918-97d92a9fcb2a div.sk-parallel {display: flex;align-items: stretch;justify-content: center;background-color: white;}#sk-5bce280e-e5d4-44b8-b918-97d92a9fcb2a div.sk-parallel-item {display: flex;flex-direction: column;position: relative;background-color: white;}#sk-5bce280e-e5d4-44b8-b918-97d92a9fcb2a div.sk-parallel-item:first-child::after {align-self: flex-end;width: 50%;}#sk-5bce280e-e5d4-44b8-b918-97d92a9fcb2a div.sk-parallel-item:last-child::after {align-self: flex-start;width: 50%;}#sk-5bce280e-e5d4-44b8-b918-97d92a9fcb2a div.sk-parallel-item:only-child::after {width: 0;}#sk-5bce280e-e5d4-44b8-b918-97d92a9fcb2a div.sk-dashed-wrapped {border: 1px dashed gray;margin: 0.2em;box-sizing: border-box;padding-bottom: 0.1em;background-color: white;position: relative;}#sk-5bce280e-e5d4-44b8-b918-97d92a9fcb2a div.sk-label label {font-family: monospace;font-weight: bold;background-color: white;display: inline-block;line-height: 1.2em;}#sk-5bce280e-e5d4-44b8-b918-97d92a9fcb2a div.sk-label-container {position: relative;z-index: 2;text-align: center;}#sk-5bce280e-e5d4-44b8-b918-97d92a9fcb2a div.sk-container {display: inline-block;position: relative;}</style><div id=\"sk-5bce280e-e5d4-44b8-b918-97d92a9fcb2a\" class\"sk-top-container\"><div class=\"sk-container\"><div class=\"sk-item sk-dashed-wrapped\"><div class=\"sk-label-container\"><div class=\"sk-label sk-toggleable\"><input class=\"sk-toggleable__control sk-hidden--visually\" id=\"2856b5f2-90a1-4809-ac2a-752af690587f\" type=\"checkbox\" ><label class=\"sk-toggleable__label\" for=\"2856b5f2-90a1-4809-ac2a-752af690587f\">Pipeline</label><div class=\"sk-toggleable__content\"><pre>Pipeline(steps=[('adder_dropper', ColAdderDropper()),\n",
       "                ('nan_filler',\n",
       "                 ColumnTransformer(transformers=[('nume_fillna',\n",
       "                                                  Pipeline(steps=[('mean_imputer',\n",
       "                                                                   SimpleImputer())]),\n",
       "                                                  ['age', 'chol', 'oldpeak',\n",
       "                                                   'trestbps']),\n",
       "                                                 ('cate_fillna',\n",
       "                                                  Pipeline(steps=[('mode_imputer',\n",
       "                                                                   SimpleImputer(strategy='most_frequent')),\n",
       "                                                                  ('encoder',\n",
       "                                                                   OneHotEncoder(handle_unknown='ignore'))]),\n",
       "                                                  ['ca', 'cp_reduced', 'exang',\n",
       "                                                   'fbs', 'restecg', 'sex',\n",
       "                                                   'slope', 'thal'])])),\n",
       "                ('scaler', StandardScaler())])</pre></div></div></div><div class=\"sk-serial\"><div class=\"sk-item\"><div class=\"sk-estimator sk-toggleable\"><input class=\"sk-toggleable__control sk-hidden--visually\" id=\"58056236-b1bb-45c9-b03c-f528cde58802\" type=\"checkbox\" ><label class=\"sk-toggleable__label\" for=\"58056236-b1bb-45c9-b03c-f528cde58802\">ColAdderDropper</label><div class=\"sk-toggleable__content\"><pre>ColAdderDropper()</pre></div></div></div><div class=\"sk-item sk-dashed-wrapped\"><div class=\"sk-label-container\"><div class=\"sk-label sk-toggleable\"><input class=\"sk-toggleable__control sk-hidden--visually\" id=\"d7c43843-6616-4a17-a573-5fa88c5a0c5d\" type=\"checkbox\" ><label class=\"sk-toggleable__label\" for=\"d7c43843-6616-4a17-a573-5fa88c5a0c5d\">nan_filler: ColumnTransformer</label><div class=\"sk-toggleable__content\"><pre>ColumnTransformer(transformers=[('nume_fillna',\n",
       "                                 Pipeline(steps=[('mean_imputer',\n",
       "                                                  SimpleImputer())]),\n",
       "                                 ['age', 'chol', 'oldpeak', 'trestbps']),\n",
       "                                ('cate_fillna',\n",
       "                                 Pipeline(steps=[('mode_imputer',\n",
       "                                                  SimpleImputer(strategy='most_frequent')),\n",
       "                                                 ('encoder',\n",
       "                                                  OneHotEncoder(handle_unknown='ignore'))]),\n",
       "                                 ['ca', 'cp_reduced', 'exang', 'fbs', 'restecg',\n",
       "                                  'sex', 'slope', 'thal'])])</pre></div></div></div><div class=\"sk-parallel\"><div class=\"sk-parallel-item\"><div class=\"sk-item\"><div class=\"sk-label-container\"><div class=\"sk-label sk-toggleable\"><input class=\"sk-toggleable__control sk-hidden--visually\" id=\"287c49b3-8726-4af1-896e-646cff0e9f40\" type=\"checkbox\" ><label class=\"sk-toggleable__label\" for=\"287c49b3-8726-4af1-896e-646cff0e9f40\">nume_fillna</label><div class=\"sk-toggleable__content\"><pre>['age', 'chol', 'oldpeak', 'trestbps']</pre></div></div></div><div class=\"sk-serial\"><div class=\"sk-item\"><div class=\"sk-serial\"><div class=\"sk-item\"><div class=\"sk-estimator sk-toggleable\"><input class=\"sk-toggleable__control sk-hidden--visually\" id=\"7817ad9e-577e-42cd-bd8d-5f683bec2a5b\" type=\"checkbox\" ><label class=\"sk-toggleable__label\" for=\"7817ad9e-577e-42cd-bd8d-5f683bec2a5b\">SimpleImputer</label><div class=\"sk-toggleable__content\"><pre>SimpleImputer()</pre></div></div></div></div></div></div></div></div><div class=\"sk-parallel-item\"><div class=\"sk-item\"><div class=\"sk-label-container\"><div class=\"sk-label sk-toggleable\"><input class=\"sk-toggleable__control sk-hidden--visually\" id=\"8a8ba0f2-235d-4f70-b12e-dc9ca93738d5\" type=\"checkbox\" ><label class=\"sk-toggleable__label\" for=\"8a8ba0f2-235d-4f70-b12e-dc9ca93738d5\">cate_fillna</label><div class=\"sk-toggleable__content\"><pre>['ca', 'cp_reduced', 'exang', 'fbs', 'restecg', 'sex', 'slope', 'thal']</pre></div></div></div><div class=\"sk-serial\"><div class=\"sk-item\"><div class=\"sk-serial\"><div class=\"sk-item\"><div class=\"sk-estimator sk-toggleable\"><input class=\"sk-toggleable__control sk-hidden--visually\" id=\"e69fd352-ebc6-4784-9c86-b065f295a706\" type=\"checkbox\" ><label class=\"sk-toggleable__label\" for=\"e69fd352-ebc6-4784-9c86-b065f295a706\">SimpleImputer</label><div class=\"sk-toggleable__content\"><pre>SimpleImputer(strategy='most_frequent')</pre></div></div></div><div class=\"sk-item\"><div class=\"sk-estimator sk-toggleable\"><input class=\"sk-toggleable__control sk-hidden--visually\" id=\"d9bd7886-1936-4074-8c70-e2c215929370\" type=\"checkbox\" ><label class=\"sk-toggleable__label\" for=\"d9bd7886-1936-4074-8c70-e2c215929370\">OneHotEncoder</label><div class=\"sk-toggleable__content\"><pre>OneHotEncoder(handle_unknown='ignore')</pre></div></div></div></div></div></div></div></div></div></div><div class=\"sk-item\"><div class=\"sk-estimator sk-toggleable\"><input class=\"sk-toggleable__control sk-hidden--visually\" id=\"c98cdbe2-825f-402c-90ef-0443e1d1198b\" type=\"checkbox\" ><label class=\"sk-toggleable__label\" for=\"c98cdbe2-825f-402c-90ef-0443e1d1198b\">StandardScaler</label><div class=\"sk-toggleable__content\"><pre>StandardScaler()</pre></div></div></div></div></div></div></div>"
      ],
      "text/plain": [
       "Pipeline(steps=[('adder_dropper', ColAdderDropper()),\n",
       "                ('nan_filler',\n",
       "                 ColumnTransformer(transformers=[('nume_fillna',\n",
       "                                                  Pipeline(steps=[('mean_imputer',\n",
       "                                                                   SimpleImputer())]),\n",
       "                                                  ['age', 'chol', 'oldpeak',\n",
       "                                                   'trestbps']),\n",
       "                                                 ('cate_fillna',\n",
       "                                                  Pipeline(steps=[('mode_imputer',\n",
       "                                                                   SimpleImputer(strategy='most_frequent')),\n",
       "                                                                  ('encoder',\n",
       "                                                                   OneHotEncoder(handle_unknown='ignore'))]),\n",
       "                                                  ['ca', 'cp_reduced', 'exang',\n",
       "                                                   'fbs', 'restecg', 'sex',\n",
       "                                                   'slope', 'thal'])])),\n",
       "                ('scaler', StandardScaler())])"
      ]
     },
     "execution_count": 26,
     "metadata": {},
     "output_type": "execute_result"
    }
   ],
   "source": [
    "# TEST\n",
    "assert preprocessed_train_X.shape == (193, 29)\n",
    "row0 = [1.026, 1.924, -0.953, 0.495, 0.832, -0.503, -0.386, -0.269, -0.102, -0.29, -0.974, -0.421, 1.584, 0.672, -0.672,\n",
    "        0.403, -0.403, -0.935, 0.974, -0.145, -0.647, 0.647, -0.234, -0.789, 0.878, -0.072, -0.269, 0.915, -0.789]\n",
    "assert list(preprocessed_train_X[0].round(3)) == row0\n",
    "preprocess_pipeline"
   ]
  },
  {
   "attachments": {},
   "cell_type": "markdown",
   "metadata": {
    "Collapsed": "false",
    "id": "1b07tI86lVG_"
   },
   "source": [
    "## Preprocessing (validation set) (1.5đ)"
   ]
  },
  {
   "attachments": {},
   "cell_type": "markdown",
   "metadata": {},
   "source": [
    "\n",
    "Once we have `preprocess_pipeline` with statistics calculated from the training set, we can easily use the `transform` method to preprocess the new input vectors in the validation and test sets. . Below, you will do the same to preprocess `val_X_df` and save the result in `preprocessed_val_X` (only need 1 line of code)"
   ]
  },
  {
   "cell_type": "code",
   "execution_count": 27,
   "metadata": {
    "Collapsed": "false",
    "deletable": false,
    "id": "3VVrWVhPlVG_",
    "nbgrader": {
     "cell_type": "code",
     "checksum": "986f547abfe534258eb2c41f692c1084",
     "grade": false,
     "grade_id": "cell-5b00ff693785976e",
     "locked": false,
     "schema_version": 3,
     "solution": true
    }
   },
   "outputs": [],
   "source": [
    "# YOUR CODE HERE\n",
    "preprocessed_val_X = preprocess_pipeline.transform(val_X_df)"
   ]
  },
  {
   "cell_type": "code",
   "execution_count": 28,
   "metadata": {
    "Collapsed": "false",
    "deletable": false,
    "editable": false,
    "id": "un38UlKolVG_",
    "nbgrader": {
     "cell_type": "code",
     "checksum": "11d78d3e447c4f152ba6106fa18ad60f",
     "grade": true,
     "grade_id": "cell-b9c978682fecdf3c",
     "locked": true,
     "points": 0.5,
     "schema_version": 3,
     "solution": false
    }
   },
   "outputs": [],
   "source": [
    "# Test\n",
    "assert preprocessed_val_X.shape == (49, 29)\n",
    "row0 = [-1.534, -0.797, -0.953, -0.72, 0.832, -0.503, -0.386, -0.269, -0.102, -0.29, -0.974, -0.421, 1.584, 0.672, -0.672,\n",
    "        0.403, -0.403, -0.935, 0.974, -0.145, 1.545, -1.545, -0.234, 1.268, -1.139, -0.072, -0.269, 0.915, -0.789]\n",
    "assert list(preprocessed_val_X[0].round(3)) == row0\n"
   ]
  },
  {
   "attachments": {},
   "cell_type": "markdown",
   "metadata": {
    "Collapsed": "false",
    "id": "esCTOTmclVHA"
   },
   "source": [
    "---"
   ]
  },
  {
   "attachments": {},
   "cell_type": "markdown",
   "metadata": {
    "Collapsed": "false",
    "id": "a6BCMtZElVHA"
   },
   "source": [
    "## Preprocessing and Modeling Data"
   ]
  },
  {
   "attachments": {},
   "cell_type": "markdown",
   "metadata": {
    "id": "HfvgdyEilVHB"
   },
   "source": [
    "### Find the best model (4đ)"
   ]
  },
  {
   "attachments": {},
   "cell_type": "markdown",
   "metadata": {},
   "source": [
    "We will use the MLP model for classification. You will create an end-to-end pipeline consisting of: the above preprocessing steps + MLP (with the hyperparameters `hidden_layer_sizes=(50), activation='relu', solver='lbfgs', random_state=0 , max_iter=10000`). You name this pipeline `full_pipeline`. Creating an end-to-end pipeline like this has the following benefits:\n",
    "- Helps simplify:\n",
    "     - For end-to-end training, simply call the `fit` method of this pipeline on the raw training set. Now the \"transformers\" in the preprocessing steps will call `fit_transform`, and the \"classifiers\" at the end will call `fit`.\n",
    "     - With input vectors in raw form, to predict just call the pipeline's `predict` method. At this point, the \"transformers\" in the preprocessing steps will call `transform`, and the \"classifiers\" at the end will call `predict`.\n",
    "- Helps avoid preprocessing the validation/test-set in the wrong way (as mentioned in the \"Preprocessing (validation set)\" section above). \n",
    "- Makes it easy to simultaneously test the values of hyperparameters at each step in the pipeline (will do below)."
   ]
  },
  {
   "attachments": {},
   "cell_type": "markdown",
   "metadata": {},
   "source": [
    "Once you've got this end-to-end pipeline, you'll experiment:\n",
    "- Hyperparameter `alpha` (L2 regularization coefficient) of `MLPClassifier` with 5 different values: from 0 to 100.\n",
    "- Hyperparameter `num_top_cp_values` of `ColAdderDropper` (at preprocessing step) with 5 different values: 1, 3, 5, 7, 9.\n",
    "\n",
    "To reassign `alpha` and `num_top_cp_values` to `full_pipeline`, you would use the `set_params` method:\n",
    "\n",
    "`full_pipeline.set_params(mlpclassifier__alpha=...)`\n",
    "\n",
    "If you create a pipeline with `make_pipeline` then the names of the steps will be automatically taken as the names of the classes and lowercase like the two names above. If you use `Pipeline` and name the steps yourself, use your name in the `set_params` method.\n",
    "\n",
    "Thus, for each model you will: train on the training set, calculate the metric here as the accuracy on the training set and the validation set, and then `append` the measure into two corresponding lists:`train_accs` and `val_accs` (for clarity, you calculate the accuracy in %, meaning it has a value from 0-100, not 0-1). You save the highest accuracy on the validation set and the `alpha` and `num_top_cp_values` values respectively into the `best_val_acc`, `best_alpha`, `best_num_top_cp_values` variables."
   ]
  },
  {
   "cell_type": "code",
   "execution_count": 29,
   "metadata": {
    "Collapsed": "false",
    "deletable": false,
    "id": "8axdeNeslVHB",
    "nbgrader": {
     "cell_type": "code",
     "checksum": "0662cf28420d8aab58040eaa80f76ed2",
     "grade": false,
     "grade_id": "cell-fdd12a79fb590313",
     "locked": false,
     "schema_version": 3,
     "solution": true,
     "task": false
    },
    "scrolled": true,
    "tags": []
   },
   "outputs": [],
   "source": [
    "# Creating full_pipeline\n",
    "# YOUR CODE HERE\n",
    "\n",
    "\n",
    "# Experiment with different values of hyperparameters (the whole process can take 2-3 minutes) and choose the best values\n",
    "train_accs = []\n",
    "val_accs = []\n",
    "alphas = [0,0.01,0.1, 1, 10, 100]\n",
    "num_top_cp_values_s = [1, 3, 5, 7,9]\n",
    "best_val_acc = 0\n",
    "best_alpha = None\n",
    "best_num_top_cp_values = None\n",
    "for alpha in alphas:\n",
    "    for num_top_cp_values in num_top_cp_values_s:\n",
    "        # YOUR CODE HERE\n",
    "        preprocess_pipeline.set_params(adder_dropper__num_top_cp_values = num_top_cp_values)\n",
    "        full_pipeline = Pipeline([\n",
    "            ('preprocess', preprocess_pipeline),\n",
    "            ('MLPClassifier', MLPClassifier(hidden_layer_sizes=(50), activation='relu', solver='lbfgs', random_state=0, max_iter=10000, alpha=alpha))\n",
    "        ])\n",
    "        \n",
    "        full_pipeline.fit(train_X_df, train_y_sr)\n",
    "        \n",
    "        # predict train_set\n",
    "        train_y_pred = full_pipeline.predict(train_X_df)\n",
    "        train_accs.append(accuracy_score(train_y_sr, train_y_pred) * 100)\n",
    "        \n",
    "        # predict validation_set\n",
    "        val_y_pred = full_pipeline.predict(val_X_df)\n",
    "        val_acc = accuracy_score(val_y_sr, val_y_pred) * 100\n",
    "        if best_val_acc < val_acc:\n",
    "            best_val_acc = val_acc\n",
    "            best_alpha = alpha\n",
    "            best_num_top_cp_values = num_top_cp_values\n",
    "        val_accs.append(val_acc)\n",
    "        \n"
   ]
  },
  {
   "cell_type": "code",
   "execution_count": 30,
   "metadata": {
    "id": "BAzogpDulVHC"
   },
   "outputs": [
    {
     "data": {
      "text/html": [
       "<style>#sk-16fac8b4-6859-4bc9-8451-93bc93ce8a40 {color: black;background-color: white;}#sk-16fac8b4-6859-4bc9-8451-93bc93ce8a40 pre{padding: 0;}#sk-16fac8b4-6859-4bc9-8451-93bc93ce8a40 div.sk-toggleable {background-color: white;}#sk-16fac8b4-6859-4bc9-8451-93bc93ce8a40 label.sk-toggleable__label {cursor: pointer;display: block;width: 100%;margin-bottom: 0;padding: 0.2em 0.3em;box-sizing: border-box;text-align: center;}#sk-16fac8b4-6859-4bc9-8451-93bc93ce8a40 div.sk-toggleable__content {max-height: 0;max-width: 0;overflow: hidden;text-align: left;background-color: #f0f8ff;}#sk-16fac8b4-6859-4bc9-8451-93bc93ce8a40 div.sk-toggleable__content pre {margin: 0.2em;color: black;border-radius: 0.25em;background-color: #f0f8ff;}#sk-16fac8b4-6859-4bc9-8451-93bc93ce8a40 input.sk-toggleable__control:checked~div.sk-toggleable__content {max-height: 200px;max-width: 100%;overflow: auto;}#sk-16fac8b4-6859-4bc9-8451-93bc93ce8a40 div.sk-estimator input.sk-toggleable__control:checked~label.sk-toggleable__label {background-color: #d4ebff;}#sk-16fac8b4-6859-4bc9-8451-93bc93ce8a40 div.sk-label input.sk-toggleable__control:checked~label.sk-toggleable__label {background-color: #d4ebff;}#sk-16fac8b4-6859-4bc9-8451-93bc93ce8a40 input.sk-hidden--visually {border: 0;clip: rect(1px 1px 1px 1px);clip: rect(1px, 1px, 1px, 1px);height: 1px;margin: -1px;overflow: hidden;padding: 0;position: absolute;width: 1px;}#sk-16fac8b4-6859-4bc9-8451-93bc93ce8a40 div.sk-estimator {font-family: monospace;background-color: #f0f8ff;margin: 0.25em 0.25em;border: 1px dotted black;border-radius: 0.25em;box-sizing: border-box;}#sk-16fac8b4-6859-4bc9-8451-93bc93ce8a40 div.sk-estimator:hover {background-color: #d4ebff;}#sk-16fac8b4-6859-4bc9-8451-93bc93ce8a40 div.sk-parallel-item::after {content: \"\";width: 100%;border-bottom: 1px solid gray;flex-grow: 1;}#sk-16fac8b4-6859-4bc9-8451-93bc93ce8a40 div.sk-label:hover label.sk-toggleable__label {background-color: #d4ebff;}#sk-16fac8b4-6859-4bc9-8451-93bc93ce8a40 div.sk-serial::before {content: \"\";position: absolute;border-left: 1px solid gray;box-sizing: border-box;top: 2em;bottom: 0;left: 50%;}#sk-16fac8b4-6859-4bc9-8451-93bc93ce8a40 div.sk-serial {display: flex;flex-direction: column;align-items: center;background-color: white;}#sk-16fac8b4-6859-4bc9-8451-93bc93ce8a40 div.sk-item {z-index: 1;}#sk-16fac8b4-6859-4bc9-8451-93bc93ce8a40 div.sk-parallel {display: flex;align-items: stretch;justify-content: center;background-color: white;}#sk-16fac8b4-6859-4bc9-8451-93bc93ce8a40 div.sk-parallel-item {display: flex;flex-direction: column;position: relative;background-color: white;}#sk-16fac8b4-6859-4bc9-8451-93bc93ce8a40 div.sk-parallel-item:first-child::after {align-self: flex-end;width: 50%;}#sk-16fac8b4-6859-4bc9-8451-93bc93ce8a40 div.sk-parallel-item:last-child::after {align-self: flex-start;width: 50%;}#sk-16fac8b4-6859-4bc9-8451-93bc93ce8a40 div.sk-parallel-item:only-child::after {width: 0;}#sk-16fac8b4-6859-4bc9-8451-93bc93ce8a40 div.sk-dashed-wrapped {border: 1px dashed gray;margin: 0.2em;box-sizing: border-box;padding-bottom: 0.1em;background-color: white;position: relative;}#sk-16fac8b4-6859-4bc9-8451-93bc93ce8a40 div.sk-label label {font-family: monospace;font-weight: bold;background-color: white;display: inline-block;line-height: 1.2em;}#sk-16fac8b4-6859-4bc9-8451-93bc93ce8a40 div.sk-label-container {position: relative;z-index: 2;text-align: center;}#sk-16fac8b4-6859-4bc9-8451-93bc93ce8a40 div.sk-container {display: inline-block;position: relative;}</style><div id=\"sk-16fac8b4-6859-4bc9-8451-93bc93ce8a40\" class\"sk-top-container\"><div class=\"sk-container\"><div class=\"sk-item sk-dashed-wrapped\"><div class=\"sk-label-container\"><div class=\"sk-label sk-toggleable\"><input class=\"sk-toggleable__control sk-hidden--visually\" id=\"4e08c312-2dd4-4be8-9e0e-c5cf880ca814\" type=\"checkbox\" ><label class=\"sk-toggleable__label\" for=\"4e08c312-2dd4-4be8-9e0e-c5cf880ca814\">Pipeline</label><div class=\"sk-toggleable__content\"><pre>Pipeline(steps=[('preprocess',\n",
       "                 Pipeline(steps=[('adder_dropper',\n",
       "                                  ColAdderDropper(num_top_cp_values=9)),\n",
       "                                 ('nan_filler',\n",
       "                                  ColumnTransformer(transformers=[('nume_fillna',\n",
       "                                                                   Pipeline(steps=[('mean_imputer',\n",
       "                                                                                    SimpleImputer())]),\n",
       "                                                                   ['age',\n",
       "                                                                    'chol',\n",
       "                                                                    'oldpeak',\n",
       "                                                                    'trestbps']),\n",
       "                                                                  ('cate_fillna',\n",
       "                                                                   Pipeline(steps=[('mode_imputer',\n",
       "                                                                                    SimpleImputer(strategy='most_frequent')),\n",
       "                                                                                   ('encoder',\n",
       "                                                                                    OneHotEncoder(handle_unknown='ignore'))]),\n",
       "                                                                   ['ca',\n",
       "                                                                    'cp_reduced',\n",
       "                                                                    'exang',\n",
       "                                                                    'fbs',\n",
       "                                                                    'restecg',\n",
       "                                                                    'sex',\n",
       "                                                                    'slope',\n",
       "                                                                    'thal'])])),\n",
       "                                 ('scaler', StandardScaler())])),\n",
       "                ('MLPClassifier',\n",
       "                 MLPClassifier(alpha=100, hidden_layer_sizes=50, max_iter=10000,\n",
       "                               random_state=0, solver='lbfgs'))])</pre></div></div></div><div class=\"sk-serial\"><div class=\"sk-item\"><div class=\"sk-label-container\"><div class=\"sk-label sk-toggleable\"><input class=\"sk-toggleable__control sk-hidden--visually\" id=\"990c1a5f-99b1-4b74-808a-c3899f7591f2\" type=\"checkbox\" ><label class=\"sk-toggleable__label\" for=\"990c1a5f-99b1-4b74-808a-c3899f7591f2\">preprocess: Pipeline</label><div class=\"sk-toggleable__content\"><pre>Pipeline(steps=[('adder_dropper', ColAdderDropper(num_top_cp_values=9)),\n",
       "                ('nan_filler',\n",
       "                 ColumnTransformer(transformers=[('nume_fillna',\n",
       "                                                  Pipeline(steps=[('mean_imputer',\n",
       "                                                                   SimpleImputer())]),\n",
       "                                                  ['age', 'chol', 'oldpeak',\n",
       "                                                   'trestbps']),\n",
       "                                                 ('cate_fillna',\n",
       "                                                  Pipeline(steps=[('mode_imputer',\n",
       "                                                                   SimpleImputer(strategy='most_frequent')),\n",
       "                                                                  ('encoder',\n",
       "                                                                   OneHotEncoder(handle_unknown='ignore'))]),\n",
       "                                                  ['ca', 'cp_reduced', 'exang',\n",
       "                                                   'fbs', 'restecg', 'sex',\n",
       "                                                   'slope', 'thal'])])),\n",
       "                ('scaler', StandardScaler())])</pre></div></div></div><div class=\"sk-serial\"><div class=\"sk-item\"><div class=\"sk-estimator sk-toggleable\"><input class=\"sk-toggleable__control sk-hidden--visually\" id=\"c4be3233-c39a-4b64-b092-2a7c6fabdf3b\" type=\"checkbox\" ><label class=\"sk-toggleable__label\" for=\"c4be3233-c39a-4b64-b092-2a7c6fabdf3b\">ColAdderDropper</label><div class=\"sk-toggleable__content\"><pre>ColAdderDropper(num_top_cp_values=9)</pre></div></div></div><div class=\"sk-item sk-dashed-wrapped\"><div class=\"sk-label-container\"><div class=\"sk-label sk-toggleable\"><input class=\"sk-toggleable__control sk-hidden--visually\" id=\"887d6cc7-1076-4f22-82ac-791127f8f185\" type=\"checkbox\" ><label class=\"sk-toggleable__label\" for=\"887d6cc7-1076-4f22-82ac-791127f8f185\">nan_filler: ColumnTransformer</label><div class=\"sk-toggleable__content\"><pre>ColumnTransformer(transformers=[('nume_fillna',\n",
       "                                 Pipeline(steps=[('mean_imputer',\n",
       "                                                  SimpleImputer())]),\n",
       "                                 ['age', 'chol', 'oldpeak', 'trestbps']),\n",
       "                                ('cate_fillna',\n",
       "                                 Pipeline(steps=[('mode_imputer',\n",
       "                                                  SimpleImputer(strategy='most_frequent')),\n",
       "                                                 ('encoder',\n",
       "                                                  OneHotEncoder(handle_unknown='ignore'))]),\n",
       "                                 ['ca', 'cp_reduced', 'exang', 'fbs', 'restecg',\n",
       "                                  'sex', 'slope', 'thal'])])</pre></div></div></div><div class=\"sk-parallel\"><div class=\"sk-parallel-item\"><div class=\"sk-item\"><div class=\"sk-label-container\"><div class=\"sk-label sk-toggleable\"><input class=\"sk-toggleable__control sk-hidden--visually\" id=\"6562e9e5-593b-40e8-b334-64f42c8103c9\" type=\"checkbox\" ><label class=\"sk-toggleable__label\" for=\"6562e9e5-593b-40e8-b334-64f42c8103c9\">nume_fillna</label><div class=\"sk-toggleable__content\"><pre>['age', 'chol', 'oldpeak', 'trestbps']</pre></div></div></div><div class=\"sk-serial\"><div class=\"sk-item\"><div class=\"sk-serial\"><div class=\"sk-item\"><div class=\"sk-estimator sk-toggleable\"><input class=\"sk-toggleable__control sk-hidden--visually\" id=\"1cc9524c-cc99-45f4-b29b-93e107041d5f\" type=\"checkbox\" ><label class=\"sk-toggleable__label\" for=\"1cc9524c-cc99-45f4-b29b-93e107041d5f\">SimpleImputer</label><div class=\"sk-toggleable__content\"><pre>SimpleImputer()</pre></div></div></div></div></div></div></div></div><div class=\"sk-parallel-item\"><div class=\"sk-item\"><div class=\"sk-label-container\"><div class=\"sk-label sk-toggleable\"><input class=\"sk-toggleable__control sk-hidden--visually\" id=\"063d8097-0af4-4172-90ed-c9926a2a08e2\" type=\"checkbox\" ><label class=\"sk-toggleable__label\" for=\"063d8097-0af4-4172-90ed-c9926a2a08e2\">cate_fillna</label><div class=\"sk-toggleable__content\"><pre>['ca', 'cp_reduced', 'exang', 'fbs', 'restecg', 'sex', 'slope', 'thal']</pre></div></div></div><div class=\"sk-serial\"><div class=\"sk-item\"><div class=\"sk-serial\"><div class=\"sk-item\"><div class=\"sk-estimator sk-toggleable\"><input class=\"sk-toggleable__control sk-hidden--visually\" id=\"2290434a-5e05-417c-86b4-dd417b83da49\" type=\"checkbox\" ><label class=\"sk-toggleable__label\" for=\"2290434a-5e05-417c-86b4-dd417b83da49\">SimpleImputer</label><div class=\"sk-toggleable__content\"><pre>SimpleImputer(strategy='most_frequent')</pre></div></div></div><div class=\"sk-item\"><div class=\"sk-estimator sk-toggleable\"><input class=\"sk-toggleable__control sk-hidden--visually\" id=\"cd899bb6-59ab-440a-a454-8cba2d9e726b\" type=\"checkbox\" ><label class=\"sk-toggleable__label\" for=\"cd899bb6-59ab-440a-a454-8cba2d9e726b\">OneHotEncoder</label><div class=\"sk-toggleable__content\"><pre>OneHotEncoder(handle_unknown='ignore')</pre></div></div></div></div></div></div></div></div></div></div><div class=\"sk-item\"><div class=\"sk-estimator sk-toggleable\"><input class=\"sk-toggleable__control sk-hidden--visually\" id=\"0f44b933-6ab7-4ed7-ac92-04a8089a2c0b\" type=\"checkbox\" ><label class=\"sk-toggleable__label\" for=\"0f44b933-6ab7-4ed7-ac92-04a8089a2c0b\">StandardScaler</label><div class=\"sk-toggleable__content\"><pre>StandardScaler()</pre></div></div></div></div></div><div class=\"sk-item\"><div class=\"sk-estimator sk-toggleable\"><input class=\"sk-toggleable__control sk-hidden--visually\" id=\"fe6bf60f-aa25-4a09-9fef-43c622e29374\" type=\"checkbox\" ><label class=\"sk-toggleable__label\" for=\"fe6bf60f-aa25-4a09-9fef-43c622e29374\">MLPClassifier</label><div class=\"sk-toggleable__content\"><pre>MLPClassifier(alpha=100, hidden_layer_sizes=50, max_iter=10000, random_state=0,\n",
       "              solver='lbfgs')</pre></div></div></div></div></div></div></div>"
      ],
      "text/plain": [
       "Pipeline(steps=[('preprocess',\n",
       "                 Pipeline(steps=[('adder_dropper',\n",
       "                                  ColAdderDropper(num_top_cp_values=9)),\n",
       "                                 ('nan_filler',\n",
       "                                  ColumnTransformer(transformers=[('nume_fillna',\n",
       "                                                                   Pipeline(steps=[('mean_imputer',\n",
       "                                                                                    SimpleImputer())]),\n",
       "                                                                   ['age',\n",
       "                                                                    'chol',\n",
       "                                                                    'oldpeak',\n",
       "                                                                    'trestbps']),\n",
       "                                                                  ('cate_fillna',\n",
       "                                                                   Pipeline(steps=[('mode_imputer',\n",
       "                                                                                    SimpleImputer(strategy='most_frequent')),\n",
       "                                                                                   ('encoder',\n",
       "                                                                                    OneHotEncoder(handle_unknown='ignore'))]),\n",
       "                                                                   ['ca',\n",
       "                                                                    'cp_reduced',\n",
       "                                                                    'exang',\n",
       "                                                                    'fbs',\n",
       "                                                                    'restecg',\n",
       "                                                                    'sex',\n",
       "                                                                    'slope',\n",
       "                                                                    'thal'])])),\n",
       "                                 ('scaler', StandardScaler())])),\n",
       "                ('MLPClassifier',\n",
       "                 MLPClassifier(alpha=100, hidden_layer_sizes=50, max_iter=10000,\n",
       "                               random_state=0, solver='lbfgs'))])"
      ]
     },
     "execution_count": 30,
     "metadata": {},
     "output_type": "execute_result"
    }
   ],
   "source": [
    "# TEST\n",
    "full_pipeline"
   ]
  },
  {
   "cell_type": "code",
   "execution_count": 31,
   "metadata": {
    "deletable": false,
    "editable": false,
    "id": "XoKMAgEulVHC",
    "nbgrader": {
     "cell_type": "code",
     "checksum": "f33688c1c8f4b1a71567209f5872b5e7",
     "grade": true,
     "grade_id": "cell-0b98eab69b5f1ff7",
     "locked": true,
     "points": 1.5,
     "schema_version": 3,
     "solution": false,
     "task": false
    }
   },
   "outputs": [],
   "source": [
    "# TEST\n",
    "assert round(best_val_acc, 2) == 85.71\n",
    "assert best_alpha == 1\n",
    "assert best_num_top_cp_values == 3"
   ]
  },
  {
   "cell_type": "code",
   "execution_count": 32,
   "metadata": {
    "id": "IFTBKkW5lVHC"
   },
   "outputs": [
    {
     "data": {
      "image/png": "[encoded data removed]",
      "text/plain": [
       "<Figure size 1000x500 with 2 Axes>"
      ]
     },
     "metadata": {},
     "output_type": "display_data"
    }
   ],
   "source": [
    "# Visualizing the result\n",
    "train_accs_df = pd.DataFrame(data=np.array(train_accs).reshape(len(alphas), -1),\n",
    "                             index=alphas, columns=num_top_cp_values_s)\n",
    "val_accs_df = pd.DataFrame(\n",
    "    data=np.array(val_accs).reshape(len(alphas), -1), \n",
    "    index=alphas, columns=num_top_cp_values_s)\n",
    "min_err = min(min(train_accs), min(val_accs))\n",
    "max_err = max(max(train_accs), max(val_accs))\n",
    "plt.figure(figsize=(10, 5))\n",
    "plt.subplot(1, 2, 1)\n",
    "sns.heatmap(train_accs_df, vmin=min_err, vmax=max_err, square=True, \n",
    "            annot=True, cbar=False, fmt='.2f', cmap='Reds')\n",
    "plt.title('train accuracies'); plt.xlabel('num_top_cp_values'); plt.ylabel('alpha')\n",
    "plt.subplot(1, 2, 2)\n",
    "sns.heatmap(val_accs_df, vmin=min_err, vmax=max_err, square=True, \n",
    "            annot=True, cbar=False, fmt='.2f', cmap='Reds')\n",
    "plt.title('validation accuracies'); plt.xlabel('num_top_cp_values'); plt.ylabel('alpha');"
   ]
  },
  {
   "attachments": {},
   "cell_type": "markdown",
   "metadata": {},
   "source": []
  },
  {
   "attachments": {},
   "cell_type": "markdown",
   "metadata": {},
   "source": [
    "About the results:\n",
    "train accuracies: like i expect\n",
    "validation accuracies: increase or decrease as num_top_cp_values increases. This may be because the distribution of values in the cp_reduced column of the validation set is much different from that of the train set."
   ]
  },
  {
   "attachments": {},
   "cell_type": "markdown",
   "metadata": {},
   "source": [
    "Finally, you will retrain `full_pipeline` on `X_df` and `y_sr` (training set + validation set) with `best_alpha` and `best_num_top_cp_values` found above to get the final model."
   ]
  },
  {
   "cell_type": "code",
   "execution_count": 33,
   "metadata": {
    "deletable": false,
    "id": "_H4FSj9FlVHD",
    "nbgrader": {
     "cell_type": "code",
     "checksum": "e771c0641435719860146ab39be71ef8",
     "grade": true,
     "grade_id": "cell-34157b0f98b9d3f5",
     "locked": false,
     "points": 0.5,
     "schema_version": 3,
     "solution": true,
     "task": false
    }
   },
   "outputs": [
    {
     "data": {
      "text/html": [
       "<style>#sk-b29a594f-55d6-4aa0-86c6-6c50414a5b56 {color: black;background-color: white;}#sk-b29a594f-55d6-4aa0-86c6-6c50414a5b56 pre{padding: 0;}#sk-b29a594f-55d6-4aa0-86c6-6c50414a5b56 div.sk-toggleable {background-color: white;}#sk-b29a594f-55d6-4aa0-86c6-6c50414a5b56 label.sk-toggleable__label {cursor: pointer;display: block;width: 100%;margin-bottom: 0;padding: 0.2em 0.3em;box-sizing: border-box;text-align: center;}#sk-b29a594f-55d6-4aa0-86c6-6c50414a5b56 div.sk-toggleable__content {max-height: 0;max-width: 0;overflow: hidden;text-align: left;background-color: #f0f8ff;}#sk-b29a594f-55d6-4aa0-86c6-6c50414a5b56 div.sk-toggleable__content pre {margin: 0.2em;color: black;border-radius: 0.25em;background-color: #f0f8ff;}#sk-b29a594f-55d6-4aa0-86c6-6c50414a5b56 input.sk-toggleable__control:checked~div.sk-toggleable__content {max-height: 200px;max-width: 100%;overflow: auto;}#sk-b29a594f-55d6-4aa0-86c6-6c50414a5b56 div.sk-estimator input.sk-toggleable__control:checked~label.sk-toggleable__label {background-color: #d4ebff;}#sk-b29a594f-55d6-4aa0-86c6-6c50414a5b56 div.sk-label input.sk-toggleable__control:checked~label.sk-toggleable__label {background-color: #d4ebff;}#sk-b29a594f-55d6-4aa0-86c6-6c50414a5b56 input.sk-hidden--visually {border: 0;clip: rect(1px 1px 1px 1px);clip: rect(1px, 1px, 1px, 1px);height: 1px;margin: -1px;overflow: hidden;padding: 0;position: absolute;width: 1px;}#sk-b29a594f-55d6-4aa0-86c6-6c50414a5b56 div.sk-estimator {font-family: monospace;background-color: #f0f8ff;margin: 0.25em 0.25em;border: 1px dotted black;border-radius: 0.25em;box-sizing: border-box;}#sk-b29a594f-55d6-4aa0-86c6-6c50414a5b56 div.sk-estimator:hover {background-color: #d4ebff;}#sk-b29a594f-55d6-4aa0-86c6-6c50414a5b56 div.sk-parallel-item::after {content: \"\";width: 100%;border-bottom: 1px solid gray;flex-grow: 1;}#sk-b29a594f-55d6-4aa0-86c6-6c50414a5b56 div.sk-label:hover label.sk-toggleable__label {background-color: #d4ebff;}#sk-b29a594f-55d6-4aa0-86c6-6c50414a5b56 div.sk-serial::before {content: \"\";position: absolute;border-left: 1px solid gray;box-sizing: border-box;top: 2em;bottom: 0;left: 50%;}#sk-b29a594f-55d6-4aa0-86c6-6c50414a5b56 div.sk-serial {display: flex;flex-direction: column;align-items: center;background-color: white;}#sk-b29a594f-55d6-4aa0-86c6-6c50414a5b56 div.sk-item {z-index: 1;}#sk-b29a594f-55d6-4aa0-86c6-6c50414a5b56 div.sk-parallel {display: flex;align-items: stretch;justify-content: center;background-color: white;}#sk-b29a594f-55d6-4aa0-86c6-6c50414a5b56 div.sk-parallel-item {display: flex;flex-direction: column;position: relative;background-color: white;}#sk-b29a594f-55d6-4aa0-86c6-6c50414a5b56 div.sk-parallel-item:first-child::after {align-self: flex-end;width: 50%;}#sk-b29a594f-55d6-4aa0-86c6-6c50414a5b56 div.sk-parallel-item:last-child::after {align-self: flex-start;width: 50%;}#sk-b29a594f-55d6-4aa0-86c6-6c50414a5b56 div.sk-parallel-item:only-child::after {width: 0;}#sk-b29a594f-55d6-4aa0-86c6-6c50414a5b56 div.sk-dashed-wrapped {border: 1px dashed gray;margin: 0.2em;box-sizing: border-box;padding-bottom: 0.1em;background-color: white;position: relative;}#sk-b29a594f-55d6-4aa0-86c6-6c50414a5b56 div.sk-label label {font-family: monospace;font-weight: bold;background-color: white;display: inline-block;line-height: 1.2em;}#sk-b29a594f-55d6-4aa0-86c6-6c50414a5b56 div.sk-label-container {position: relative;z-index: 2;text-align: center;}#sk-b29a594f-55d6-4aa0-86c6-6c50414a5b56 div.sk-container {display: inline-block;position: relative;}</style><div id=\"sk-b29a594f-55d6-4aa0-86c6-6c50414a5b56\" class\"sk-top-container\"><div class=\"sk-container\"><div class=\"sk-item sk-dashed-wrapped\"><div class=\"sk-label-container\"><div class=\"sk-label sk-toggleable\"><input class=\"sk-toggleable__control sk-hidden--visually\" id=\"c91aa579-0ed7-441b-bc7e-af06d032a76e\" type=\"checkbox\" ><label class=\"sk-toggleable__label\" for=\"c91aa579-0ed7-441b-bc7e-af06d032a76e\">Pipeline</label><div class=\"sk-toggleable__content\"><pre>Pipeline(steps=[('preprocess',\n",
       "                 Pipeline(steps=[('adder_dropper', ColAdderDropper()),\n",
       "                                 ('nan_filler',\n",
       "                                  ColumnTransformer(transformers=[('nume_fillna',\n",
       "                                                                   Pipeline(steps=[('mean_imputer',\n",
       "                                                                                    SimpleImputer())]),\n",
       "                                                                   ['age',\n",
       "                                                                    'chol',\n",
       "                                                                    'oldpeak',\n",
       "                                                                    'trestbps']),\n",
       "                                                                  ('cate_fillna',\n",
       "                                                                   Pipeline(steps=[('mode_imputer',\n",
       "                                                                                    SimpleImputer(strategy='most_frequent')),\n",
       "                                                                                   ('encoder',\n",
       "                                                                                    OneHotEncoder(handle_unknown='ignore'))]),\n",
       "                                                                   ['ca',\n",
       "                                                                    'cp_reduced',\n",
       "                                                                    'exang',\n",
       "                                                                    'fbs',\n",
       "                                                                    'restecg',\n",
       "                                                                    'sex',\n",
       "                                                                    'slope',\n",
       "                                                                    'thal'])])),\n",
       "                                 ('scaler', StandardScaler())])),\n",
       "                ('MLPClassifier',\n",
       "                 MLPClassifier(alpha=1, hidden_layer_sizes=50, max_iter=10000,\n",
       "                               random_state=0, solver='lbfgs'))])</pre></div></div></div><div class=\"sk-serial\"><div class=\"sk-item\"><div class=\"sk-label-container\"><div class=\"sk-label sk-toggleable\"><input class=\"sk-toggleable__control sk-hidden--visually\" id=\"9eb17b77-7737-46b7-9815-eb182303dbb8\" type=\"checkbox\" ><label class=\"sk-toggleable__label\" for=\"9eb17b77-7737-46b7-9815-eb182303dbb8\">preprocess: Pipeline</label><div class=\"sk-toggleable__content\"><pre>Pipeline(steps=[('adder_dropper', ColAdderDropper()),\n",
       "                ('nan_filler',\n",
       "                 ColumnTransformer(transformers=[('nume_fillna',\n",
       "                                                  Pipeline(steps=[('mean_imputer',\n",
       "                                                                   SimpleImputer())]),\n",
       "                                                  ['age', 'chol', 'oldpeak',\n",
       "                                                   'trestbps']),\n",
       "                                                 ('cate_fillna',\n",
       "                                                  Pipeline(steps=[('mode_imputer',\n",
       "                                                                   SimpleImputer(strategy='most_frequent')),\n",
       "                                                                  ('encoder',\n",
       "                                                                   OneHotEncoder(handle_unknown='ignore'))]),\n",
       "                                                  ['ca', 'cp_reduced', 'exang',\n",
       "                                                   'fbs', 'restecg', 'sex',\n",
       "                                                   'slope', 'thal'])])),\n",
       "                ('scaler', StandardScaler())])</pre></div></div></div><div class=\"sk-serial\"><div class=\"sk-item\"><div class=\"sk-estimator sk-toggleable\"><input class=\"sk-toggleable__control sk-hidden--visually\" id=\"3fa19846-cb82-4bc4-8252-36db83bb5055\" type=\"checkbox\" ><label class=\"sk-toggleable__label\" for=\"3fa19846-cb82-4bc4-8252-36db83bb5055\">ColAdderDropper</label><div class=\"sk-toggleable__content\"><pre>ColAdderDropper()</pre></div></div></div><div class=\"sk-item sk-dashed-wrapped\"><div class=\"sk-label-container\"><div class=\"sk-label sk-toggleable\"><input class=\"sk-toggleable__control sk-hidden--visually\" id=\"e7028c0b-1a1e-47ed-b141-d5634bcb3a7d\" type=\"checkbox\" ><label class=\"sk-toggleable__label\" for=\"e7028c0b-1a1e-47ed-b141-d5634bcb3a7d\">nan_filler: ColumnTransformer</label><div class=\"sk-toggleable__content\"><pre>ColumnTransformer(transformers=[('nume_fillna',\n",
       "                                 Pipeline(steps=[('mean_imputer',\n",
       "                                                  SimpleImputer())]),\n",
       "                                 ['age', 'chol', 'oldpeak', 'trestbps']),\n",
       "                                ('cate_fillna',\n",
       "                                 Pipeline(steps=[('mode_imputer',\n",
       "                                                  SimpleImputer(strategy='most_frequent')),\n",
       "                                                 ('encoder',\n",
       "                                                  OneHotEncoder(handle_unknown='ignore'))]),\n",
       "                                 ['ca', 'cp_reduced', 'exang', 'fbs', 'restecg',\n",
       "                                  'sex', 'slope', 'thal'])])</pre></div></div></div><div class=\"sk-parallel\"><div class=\"sk-parallel-item\"><div class=\"sk-item\"><div class=\"sk-label-container\"><div class=\"sk-label sk-toggleable\"><input class=\"sk-toggleable__control sk-hidden--visually\" id=\"a67ce054-152f-4f84-8eec-3515585e4f13\" type=\"checkbox\" ><label class=\"sk-toggleable__label\" for=\"a67ce054-152f-4f84-8eec-3515585e4f13\">nume_fillna</label><div class=\"sk-toggleable__content\"><pre>['age', 'chol', 'oldpeak', 'trestbps']</pre></div></div></div><div class=\"sk-serial\"><div class=\"sk-item\"><div class=\"sk-serial\"><div class=\"sk-item\"><div class=\"sk-estimator sk-toggleable\"><input class=\"sk-toggleable__control sk-hidden--visually\" id=\"8bbe2b70-d2fa-4e59-aecf-20739f747e06\" type=\"checkbox\" ><label class=\"sk-toggleable__label\" for=\"8bbe2b70-d2fa-4e59-aecf-20739f747e06\">SimpleImputer</label><div class=\"sk-toggleable__content\"><pre>SimpleImputer()</pre></div></div></div></div></div></div></div></div><div class=\"sk-parallel-item\"><div class=\"sk-item\"><div class=\"sk-label-container\"><div class=\"sk-label sk-toggleable\"><input class=\"sk-toggleable__control sk-hidden--visually\" id=\"9f23b28d-1a19-43f5-b91d-ec5ab4f956bf\" type=\"checkbox\" ><label class=\"sk-toggleable__label\" for=\"9f23b28d-1a19-43f5-b91d-ec5ab4f956bf\">cate_fillna</label><div class=\"sk-toggleable__content\"><pre>['ca', 'cp_reduced', 'exang', 'fbs', 'restecg', 'sex', 'slope', 'thal']</pre></div></div></div><div class=\"sk-serial\"><div class=\"sk-item\"><div class=\"sk-serial\"><div class=\"sk-item\"><div class=\"sk-estimator sk-toggleable\"><input class=\"sk-toggleable__control sk-hidden--visually\" id=\"740e17d9-3f9c-48a8-a718-376d00605b8f\" type=\"checkbox\" ><label class=\"sk-toggleable__label\" for=\"740e17d9-3f9c-48a8-a718-376d00605b8f\">SimpleImputer</label><div class=\"sk-toggleable__content\"><pre>SimpleImputer(strategy='most_frequent')</pre></div></div></div><div class=\"sk-item\"><div class=\"sk-estimator sk-toggleable\"><input class=\"sk-toggleable__control sk-hidden--visually\" id=\"2a47a0e9-2828-48b6-ba02-addf8cd65210\" type=\"checkbox\" ><label class=\"sk-toggleable__label\" for=\"2a47a0e9-2828-48b6-ba02-addf8cd65210\">OneHotEncoder</label><div class=\"sk-toggleable__content\"><pre>OneHotEncoder(handle_unknown='ignore')</pre></div></div></div></div></div></div></div></div></div></div><div class=\"sk-item\"><div class=\"sk-estimator sk-toggleable\"><input class=\"sk-toggleable__control sk-hidden--visually\" id=\"218f02a6-7a87-49b9-8d1e-1524abaa4ded\" type=\"checkbox\" ><label class=\"sk-toggleable__label\" for=\"218f02a6-7a87-49b9-8d1e-1524abaa4ded\">StandardScaler</label><div class=\"sk-toggleable__content\"><pre>StandardScaler()</pre></div></div></div></div></div><div class=\"sk-item\"><div class=\"sk-estimator sk-toggleable\"><input class=\"sk-toggleable__control sk-hidden--visually\" id=\"32bde9da-566e-4f65-871e-b2d13f274efb\" type=\"checkbox\" ><label class=\"sk-toggleable__label\" for=\"32bde9da-566e-4f65-871e-b2d13f274efb\">MLPClassifier</label><div class=\"sk-toggleable__content\"><pre>MLPClassifier(alpha=1, hidden_layer_sizes=50, max_iter=10000, random_state=0,\n",
       "              solver='lbfgs')</pre></div></div></div></div></div></div></div>"
      ],
      "text/plain": [
       "Pipeline(steps=[('preprocess',\n",
       "                 Pipeline(steps=[('adder_dropper', ColAdderDropper()),\n",
       "                                 ('nan_filler',\n",
       "                                  ColumnTransformer(transformers=[('nume_fillna',\n",
       "                                                                   Pipeline(steps=[('mean_imputer',\n",
       "                                                                                    SimpleImputer())]),\n",
       "                                                                   ['age',\n",
       "                                                                    'chol',\n",
       "                                                                    'oldpeak',\n",
       "                                                                    'trestbps']),\n",
       "                                                                  ('cate_fillna',\n",
       "                                                                   Pipeline(steps=[('mode_imputer',\n",
       "                                                                                    SimpleImputer(strategy='most_frequent')),\n",
       "                                                                                   ('encoder',\n",
       "                                                                                    OneHotEncoder(handle_unknown='ignore'))]),\n",
       "                                                                   ['ca',\n",
       "                                                                    'cp_reduced',\n",
       "                                                                    'exang',\n",
       "                                                                    'fbs',\n",
       "                                                                    'restecg',\n",
       "                                                                    'sex',\n",
       "                                                                    'slope',\n",
       "                                                                    'thal'])])),\n",
       "                                 ('scaler', StandardScaler())])),\n",
       "                ('MLPClassifier',\n",
       "                 MLPClassifier(alpha=1, hidden_layer_sizes=50, max_iter=10000,\n",
       "                               random_state=0, solver='lbfgs'))])"
      ]
     },
     "execution_count": 33,
     "metadata": {},
     "output_type": "execute_result"
    }
   ],
   "source": [
    "# YOUR CODE HERE\n",
    "full_pipeline = Pipeline([\n",
    "    ('preprocess', preprocess_pipeline),\n",
    "    ('MLPClassifier', MLPClassifier(hidden_layer_sizes=(50), activation='relu', solver='lbfgs', random_state=0, max_iter=10000))\n",
    "])\n",
    "full_pipeline.set_params(preprocess__adder_dropper__num_top_cp_values = best_num_top_cp_values, \n",
    "                         MLPClassifier__alpha=best_alpha)\n",
    "\n",
    "full_pipeline.fit(X_df, y_sr)"
   ]
  },
  {
   "attachments": {},
   "cell_type": "markdown",
   "metadata": {
    "Collapsed": "false",
    "id": "s7un-crLlVHD"
   },
   "source": [
    "### Evaluate your model(1đ)\n",
    "\n",
    "You will use the final model above to make predictions with the inputs in the test set (file \"lab03_test.csv\"). In order for me to be able to score (compare with the hidden groundtruth) you have to create a csv file with a single `target` column which is your predicted value (1 - has disease, and 0 - no). You name your file `my_preds.csv`."
   ]
  },
  {
   "cell_type": "code",
   "execution_count": 34,
   "metadata": {
    "id": "5jk7q3AaygtG"
   },
   "outputs": [],
   "source": [
    "test_X_df = pd.read_csv(\"lab03_test.csv\")"
   ]
  },
  {
   "cell_type": "code",
   "execution_count": 35,
   "metadata": {
    "id": "W6lbh5jeywFl"
   },
   "outputs": [],
   "source": [
    "test_X_df.to_csv(\"lab03_test.csv\",index=False)"
   ]
  },
  {
   "cell_type": "code",
   "execution_count": 36,
   "metadata": {
    "Collapsed": "false",
    "deletable": false,
    "id": "YXC5LEqNlVHE",
    "nbgrader": {
     "cell_type": "code",
     "checksum": "226b0f0ebb7e79c2866d02164cec9e2d",
     "grade": false,
     "grade_id": "cell-e184d7a3003ba334",
     "locked": false,
     "schema_version": 3,
     "solution": true,
     "task": false
    }
   },
   "outputs": [],
   "source": [
    "# YOUR CODE HERE\n",
    "test_y_preds = full_pipeline.predict(test_X_df)\n",
    "pd.DataFrame(test_y_preds, columns=['target']).to_csv('my_preds.csv', index=False)"
   ]
  },
  {
   "cell_type": "code",
   "execution_count": 37,
   "metadata": {
    "deletable": false,
    "editable": false,
    "id": "1d6trk_elVHE",
    "nbgrader": {
     "cell_type": "code",
     "checksum": "a1ff8fb8e8c561377393942df69da26c",
     "grade": true,
     "grade_id": "cell-dbdc218117501513",
     "locked": true,
     "points": 0.75,
     "schema_version": 3,
     "solution": false,
     "task": false
    }
   },
   "outputs": [],
   "source": [
    "# TEST\n",
    "my_preds_df = pd.read_csv('my_preds.csv')\n",
    "assert round(my_preds_df['target'].mean(), 3) == 0.574\n",
    "assert np.all(my_preds_df.iloc[:5].values.reshape(-1) == \\\n",
    "                                     np.array([0, 0, 1, 0, 0]))"
   ]
  }
 ],
 "metadata": {
  "colab": {
   "collapsed_sections": [
    "a4Um_o5blVGx",
    "Ih5D0w0WlVGy",
    "vLl5KluIlVGy",
    "LY1HXxl3lVG5",
    "QtmDTZWUlVG6",
    "zbGOiPEglVG8",
    "1b07tI86lVG_",
    "a6BCMtZElVHA",
    "HfvgdyEilVHB",
    "s7un-crLlVHD",
    "oy9yh-uEiiXr"
   ],
   "provenance": []
  },
  "kernelspec": {
   "display_name": "Python 3 (ipykernel)",
   "language": "python",
   "name": "python3"
  },
  "language_info": {
   "codemirror_mode": {
    "name": "ipython",
    "version": 3
   },
   "file_extension": ".py",
   "mimetype": "text/x-python",
   "name": "python",
   "nbconvert_exporter": "python",
   "pygments_lexer": "ipython3",
   "version": "3.8.8"
  },
  "toc": {
   "base_numbering": 1,
   "nav_menu": {
    "height": "153px",
    "width": "252px"
   },
   "number_sections": false,
   "sideBar": true,
   "skip_h1_title": false,
   "title_cell": "Table of Contents",
   "title_sidebar": "Contents",
   "toc_cell": false,
   "toc_position": {
    "height": "calc(100% - 180px)",
    "left": "10px",
    "top": "150px",
    "width": "176px"
   },
   "toc_section_display": "block",
   "toc_window_display": true
  },
  "toc-autonumbering": true
 },
 "nbformat": 4,
 "nbformat_minor": 1
}
